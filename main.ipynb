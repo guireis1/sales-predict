{
 "cells": [
  {
   "cell_type": "markdown",
   "metadata": {},
   "source": [
    "# Loading data and Libraries"
   ]
  },
  {
   "cell_type": "code",
   "execution_count": 2,
   "metadata": {},
   "outputs": [],
   "source": [
    "# Basic\n",
    "import seaborn as sns\n",
    "from fbprophet import Prophet\n",
    "import pandas as pd\n",
    "import numpy as np\n",
    "import matplotlib.pyplot as plt\n",
    "%matplotlib inline\n",
    "\n",
    "# TIME SERIES\n",
    "from statsmodels.tsa.arima_model import ARIMA\n",
    "from statsmodels.tsa.statespace.sarimax import SARIMAX\n",
    "from pandas.plotting import autocorrelation_plot\n",
    "from statsmodels.tsa.stattools import adfuller, acf, pacf,arma_order_select_ic\n",
    "import statsmodels.formula.api as smf\n",
    "import statsmodels.tsa.api as smt\n",
    "import statsmodels.api as sm\n",
    "import scipy.stats as scs\n",
    "from statsmodels.tsa.seasonal import STL\n",
    "\n",
    "# Models\n",
    "from xgboost import XGBRegressor\n",
    "from xgboost import plot_importance\n",
    "import catboost\n",
    "from catboost import Pool\n",
    "from catboost import CatBoostRegressor\n",
    "from xgboost import XGBRegressor\n",
    "from xgboost import plot_importance\n",
    "from sklearn.metrics import mean_squared_error\n",
    "from sklearn.linear_model import LinearRegression\n",
    "from sklearn.neighbors import KNeighborsRegressor\n",
    "from sklearn.ensemble import RandomForestRegressor\n",
    "from sklearn.preprocessing import StandardScaler, MinMaxScaler\n",
    "from sklearn.preprocessing import LabelEncoder\n",
    "\n",
    "#Extras\n",
    "from itertools import product\n",
    "import time\n",
    "import sys\n",
    "import gc\n",
    "import pickle\n",
    "import warnings\n",
    "sys.version_info\n",
    "pd.set_option('display.max_columns', 500)\n",
    "warnings.filterwarnings('ignore')"
   ]
  },
  {
   "cell_type": "code",
   "execution_count": 3,
   "metadata": {},
   "outputs": [],
   "source": [
    "def plot_features(booster, figsize):    \n",
    "    fig, ax = plt.subplots(1,1,figsize=figsize)\n",
    "    return plot_importance(booster=booster, ax=ax)"
   ]
  },
  {
   "cell_type": "code",
   "execution_count": 4,
   "metadata": {},
   "outputs": [],
   "source": [
    "DATA_PATH = r'data/'"
   ]
  },
  {
   "cell_type": "code",
   "execution_count": 5,
   "metadata": {},
   "outputs": [],
   "source": [
    "item=pd.read_csv(DATA_PATH+'items.csv')"
   ]
  },
  {
   "cell_type": "code",
   "execution_count": 6,
   "metadata": {},
   "outputs": [],
   "source": [
    "item_categories=pd.read_csv(DATA_PATH+'item_categories.csv')"
   ]
  },
  {
   "cell_type": "code",
   "execution_count": 7,
   "metadata": {},
   "outputs": [],
   "source": [
    "sales_train=pd.read_csv(DATA_PATH+'sales_train.csv')"
   ]
  },
  {
   "cell_type": "code",
   "execution_count": 8,
   "metadata": {},
   "outputs": [],
   "source": [
    "shops=pd.read_csv(DATA_PATH+'shops.csv')"
   ]
  },
  {
   "cell_type": "code",
   "execution_count": 9,
   "metadata": {},
   "outputs": [],
   "source": [
    "test=pd.read_csv(DATA_PATH+'test.csv')"
   ]
  },
  {
   "cell_type": "markdown",
   "metadata": {},
   "source": [
    "# EDA"
   ]
  },
  {
   "cell_type": "code",
   "execution_count": 10,
   "metadata": {},
   "outputs": [],
   "source": [
    "sales_train_merge = pd.merge(sales_train,item,how='left',on='item_id').drop('item_name',axis=1)"
   ]
  },
  {
   "cell_type": "code",
   "execution_count": 11,
   "metadata": {},
   "outputs": [],
   "source": [
    "sales_monthly = sales_train.groupby([\"date_block_num\",\"shop_id\",\"item_id\"])[\"date\",\"item_price\",\"item_cnt_day\"].agg({\"date\":[\"min\",'max'],\"item_price\":\"mean\",\"item_cnt_day\":\"sum\"})"
   ]
  },
  {
   "cell_type": "code",
   "execution_count": 12,
   "metadata": {
    "tags": []
   },
   "outputs": [
    {
     "name": "stdout",
     "output_type": "stream",
     "text": [
      "----------Top-5- Record----------\n",
      "         date  date_block_num  shop_id  item_id  item_price  item_cnt_day  \\\n",
      "0  02.01.2013               0       59    22154      999.00           1.0   \n",
      "1  03.01.2013               0       25     2552      899.00           1.0   \n",
      "2  05.01.2013               0       25     2552      899.00          -1.0   \n",
      "3  06.01.2013               0       25     2554     1709.05           1.0   \n",
      "4  15.01.2013               0       25     2555     1099.00           1.0   \n",
      "\n",
      "   item_category_id  \n",
      "0                37  \n",
      "1                58  \n",
      "2                58  \n",
      "3                58  \n",
      "4                56  \n",
      "-----------Information-----------\n",
      "<class 'pandas.core.frame.DataFrame'>\n",
      "Int64Index: 2935849 entries, 0 to 2935848\n",
      "Data columns (total 7 columns):\n",
      " #   Column            Dtype  \n",
      "---  ------            -----  \n",
      " 0   date              object \n",
      " 1   date_block_num    int64  \n",
      " 2   shop_id           int64  \n",
      " 3   item_id           int64  \n",
      " 4   item_price        float64\n",
      " 5   item_cnt_day      float64\n",
      " 6   item_category_id  int64  \n",
      "dtypes: float64(2), int64(4), object(1)\n",
      "memory usage: 179.2+ MB\n",
      "None\n",
      "-----------Data Types-----------\n",
      "date                 object\n",
      "date_block_num        int64\n",
      "shop_id               int64\n",
      "item_id               int64\n",
      "item_price          float64\n",
      "item_cnt_day        float64\n",
      "item_category_id      int64\n",
      "dtype: object\n",
      "----------Missing value-----------\n",
      "date                0\n",
      "date_block_num      0\n",
      "shop_id             0\n",
      "item_id             0\n",
      "item_price          0\n",
      "item_cnt_day        0\n",
      "item_category_id    0\n",
      "dtype: int64\n",
      "----------Null value-----------\n",
      "date                0\n",
      "date_block_num      0\n",
      "shop_id             0\n",
      "item_id             0\n",
      "item_price          0\n",
      "item_cnt_day        0\n",
      "item_category_id    0\n",
      "dtype: int64\n",
      "----------Shape of Data----------\n",
      "(2935849, 7)\n"
     ]
    }
   ],
   "source": [
    "print(\"----------Top-5- Record----------\")\n",
    "print(sales_train_merge.head(5))\n",
    "print(\"-----------Information-----------\")\n",
    "print(sales_train_merge.info())\n",
    "print(\"-----------Data Types-----------\")\n",
    "print(sales_train_merge.dtypes)\n",
    "print(\"----------Missing value-----------\")\n",
    "print(sales_train_merge.isnull().sum())\n",
    "print(\"----------Null value-----------\")\n",
    "print(sales_train_merge.isna().sum())\n",
    "print(\"----------Shape of Data----------\")\n",
    "print(sales_train_merge.shape)"
   ]
  },
  {
   "cell_type": "code",
   "execution_count": 13,
   "metadata": {},
   "outputs": [
    {
     "data": {
      "text/plain": [
       "31    449\n",
       "12    391\n",
       "54    353\n",
       "25    315\n",
       "57    311\n",
       "Name: shop_id, dtype: int64"
      ]
     },
     "execution_count": 13,
     "metadata": {},
     "output_type": "execute_result"
    }
   ],
   "source": [
    "## Almost 7200 item_cnt_day with -1 , probably was NaN, remove?\n",
    "sales_train[sales_train['item_cnt_day']==-1]['shop_id'].value_counts()[:5]  ##7200"
   ]
  },
  {
   "cell_type": "code",
   "execution_count": 14,
   "metadata": {},
   "outputs": [],
   "source": [
    "itens = pd.DataFrame(item.groupby('item_category_id')['item_id'].count())\n",
    "itens_sort = itens.sort_values(by='item_id',ascending=False)[:12]"
   ]
  },
  {
   "cell_type": "code",
   "execution_count": 15,
   "metadata": {},
   "outputs": [],
   "source": [
    "itens_train = pd.DataFrame(sales_train_merge.groupby('item_category_id')['item_id'].count())\n",
    "itens_sort_train = itens_train.sort_values(by='item_id',ascending=False)[:12]"
   ]
  },
  {
   "cell_type": "code",
   "execution_count": 16,
   "metadata": {},
   "outputs": [],
   "source": [
    "sales_test = pd.merge(test,item,how='left',on='item_id').drop('item_name',axis=1)\n",
    "itens_test = pd.DataFrame(sales_test.groupby('item_category_id')['item_id'].count())\n",
    "itens_sort_test = itens_test.sort_values(by='item_id',ascending=False)[:12]"
   ]
  },
  {
   "cell_type": "code",
   "execution_count": 17,
   "metadata": {},
   "outputs": [
    {
     "data": {
      "image/png": "[encoded data removed]",
      "text/plain": [
       "<Figure size 1080x1080 with 3 Axes>"
      ]
     },
     "metadata": {
      "needs_background": "light"
     },
     "output_type": "display_data"
    }
   ],
   "source": [
    "## Itens per category, compare with total, train, test\n",
    "plt.figure(figsize=(15,15))\n",
    "plt.subplot(3,1,1)\n",
    "sns.barplot(x=itens_sort_train.index,y=itens_sort_train['item_id'],palette='YlGnBu')\n",
    "plt.title('Train')\n",
    "plt.xlabel('')\n",
    "plt.subplot(3,1,2)\n",
    "sns.barplot(x=itens_sort_test.index,y=itens_sort_test['item_id'],palette='YlGnBu')\n",
    "plt.title('Test')\n",
    "plt.xlabel('')\n",
    "plt.subplot(3,1,3)\n",
    "sns.barplot(x=itens_sort.index,y=itens_sort['item_id'],palette='YlGnBu')\n",
    "plt.title('All')\n",
    "plt.show()"
   ]
  },
  {
   "cell_type": "code",
   "execution_count": 18,
   "metadata": {},
   "outputs": [
    {
     "data": {
      "image/png": "[encoded data removed]",
      "text/plain": [
       "<Figure size 864x360 with 1 Axes>"
      ]
     },
     "metadata": {
      "needs_background": "light"
     },
     "output_type": "display_data"
    }
   ],
   "source": [
    "item_sum = pd.DataFrame(sales_train_merge.groupby('date_block_num')['item_cnt_day'].sum())\n",
    "plt.figure(figsize=(12,5))\n",
    "plt.plot(item_sum,color='Blue')\n",
    "plt.title('Total itens sold monthly')\n",
    "plt.show()"
   ]
  },
  {
   "cell_type": "markdown",
   "metadata": {},
   "source": [
    "## Using prophet"
   ]
  },
  {
   "cell_type": "code",
   "execution_count": 22,
   "metadata": {},
   "outputs": [],
   "source": [
    "item_sum = sales_train.groupby([\"date_block_num\"])[\"item_cnt_day\"].sum()"
   ]
  },
  {
   "cell_type": "code",
   "execution_count": 23,
   "metadata": {},
   "outputs": [
    {
     "data": {
      "text/plain": [
       "<Figure size 216x360 with 0 Axes>"
      ]
     },
     "metadata": {},
     "output_type": "display_data"
    },
    {
     "data": {
      "image/png": "[encoded data removed]",
      "text/plain": [
       "<Figure size 432x288 with 4 Axes>"
      ]
     },
     "metadata": {
      "needs_background": "light"
     },
     "output_type": "display_data"
    }
   ],
   "source": [
    "plt.figure(figsize=(3,5))\n",
    "res = STL(item_sum.values,period=12).fit()\n",
    "fig = res.plot()\n",
    "plt.show()"
   ]
  },
  {
   "cell_type": "code",
   "execution_count": 24,
   "metadata": {
    "tags": []
   },
   "outputs": [
    {
     "name": "stdout",
     "output_type": "stream",
     "text": [
      "Results of Dickey-Fuller Test:\n",
      "Test Statistic                 -2.395704\n",
      "p-value                         0.142953\n",
      "#Lags Used                      0.000000\n",
      "Number of Observations Used    33.000000\n",
      "Critical Value (1%)            -3.646135\n",
      "Critical Value (5%)            -2.954127\n",
      "Critical Value (10%)           -2.615968\n",
      "dtype: float64\n"
     ]
    }
   ],
   "source": [
    "# Stationarity tests\n",
    "\n",
    "def test_stationarity(timeseries):\n",
    "    \n",
    "    #Perform Dickey-Fuller test:\n",
    "    print('Results of Dickey-Fuller Test:')\n",
    "    dftest = adfuller(timeseries, autolag='AIC')\n",
    "    dfoutput = pd.Series(dftest[0:4], index=['Test Statistic','p-value','#Lags Used','Number of Observations Used'])\n",
    "    for key,value in dftest[4].items():\n",
    "        dfoutput['Critical Value (%s)'%key] = value\n",
    "    print (dfoutput)# TIME SERIES\n",
    "\n",
    "\n",
    "test_stationarity(item_sum)\n"
   ]
  },
  {
   "cell_type": "code",
   "execution_count": 25,
   "metadata": {},
   "outputs": [
    {
     "data": {
      "text/html": [
       "<div>\n",
       "<style scoped>\n",
       "    .dataframe tbody tr th:only-of-type {\n",
       "        vertical-align: middle;\n",
       "    }\n",
       "\n",
       "    .dataframe tbody tr th {\n",
       "        vertical-align: top;\n",
       "    }\n",
       "\n",
       "    .dataframe thead th {\n",
       "        text-align: right;\n",
       "    }\n",
       "</style>\n",
       "<table border=\"1\" class=\"dataframe\">\n",
       "  <thead>\n",
       "    <tr style=\"text-align: right;\">\n",
       "      <th></th>\n",
       "      <th>index</th>\n",
       "      <th>item_cnt_day</th>\n",
       "    </tr>\n",
       "  </thead>\n",
       "  <tbody>\n",
       "    <tr>\n",
       "      <th>0</th>\n",
       "      <td>2013-01-01</td>\n",
       "      <td>131479.0</td>\n",
       "    </tr>\n",
       "    <tr>\n",
       "      <th>1</th>\n",
       "      <td>2013-02-01</td>\n",
       "      <td>128090.0</td>\n",
       "    </tr>\n",
       "    <tr>\n",
       "      <th>2</th>\n",
       "      <td>2013-03-01</td>\n",
       "      <td>147142.0</td>\n",
       "    </tr>\n",
       "    <tr>\n",
       "      <th>3</th>\n",
       "      <td>2013-04-01</td>\n",
       "      <td>107190.0</td>\n",
       "    </tr>\n",
       "    <tr>\n",
       "      <th>4</th>\n",
       "      <td>2013-05-01</td>\n",
       "      <td>106970.0</td>\n",
       "    </tr>\n",
       "  </tbody>\n",
       "</table>\n",
       "</div>"
      ],
      "text/plain": [
       "       index  item_cnt_day\n",
       "0 2013-01-01      131479.0\n",
       "1 2013-02-01      128090.0\n",
       "2 2013-03-01      147142.0\n",
       "3 2013-04-01      107190.0\n",
       "4 2013-05-01      106970.0"
      ]
     },
     "execution_count": 25,
     "metadata": {},
     "output_type": "execute_result"
    }
   ],
   "source": [
    "# adding the dates to the Time-series as index\n",
    "baseline = sales_train_merge.groupby([\"date_block_num\"])[\"item_cnt_day\"].sum()\n",
    "baseline.index = pd.date_range(start = '2013-01-01',end='2015-10-01', freq = 'MS')\n",
    "baseline = baseline.reset_index()\n",
    "baseline.head()"
   ]
  },
  {
   "cell_type": "code",
   "execution_count": 26,
   "metadata": {
    "tags": []
   },
   "outputs": [
    {
     "name": "stderr",
     "output_type": "stream",
     "text": [
      "INFO:fbprophet:Disabling weekly seasonality. Run prophet with weekly_seasonality=True to override this.\n",
      "INFO:fbprophet:Disabling daily seasonality. Run prophet with daily_seasonality=True to override this.\n"
     ]
    },
    {
     "data": {
      "text/plain": [
       "<fbprophet.forecaster.Prophet at 0x7fba7343c850>"
      ]
     },
     "execution_count": 26,
     "metadata": {},
     "output_type": "execute_result"
    }
   ],
   "source": [
    "#prophet reqiures a pandas df at the below config \n",
    "# ( date column named as DS and the value column as Y)\n",
    "baseline.columns=['ds','y']\n",
    "model = Prophet( yearly_seasonality=True) #instantiate Prophet with only yearly seasonality as our data is monthly \n",
    "model.fit(baseline) #fit the model with your dataframe"
   ]
  },
  {
   "cell_type": "code",
   "execution_count": 27,
   "metadata": {},
   "outputs": [
    {
     "data": {
      "text/html": [
       "<div>\n",
       "<style scoped>\n",
       "    .dataframe tbody tr th:only-of-type {\n",
       "        vertical-align: middle;\n",
       "    }\n",
       "\n",
       "    .dataframe tbody tr th {\n",
       "        vertical-align: top;\n",
       "    }\n",
       "\n",
       "    .dataframe thead th {\n",
       "        text-align: right;\n",
       "    }\n",
       "</style>\n",
       "<table border=\"1\" class=\"dataframe\">\n",
       "  <thead>\n",
       "    <tr style=\"text-align: right;\">\n",
       "      <th></th>\n",
       "      <th>ds</th>\n",
       "      <th>yhat</th>\n",
       "      <th>yhat_lower</th>\n",
       "      <th>yhat_upper</th>\n",
       "    </tr>\n",
       "  </thead>\n",
       "  <tbody>\n",
       "    <tr>\n",
       "      <th>34</th>\n",
       "      <td>2015-11-01</td>\n",
       "      <td>83193.957369</td>\n",
       "      <td>80136.444874</td>\n",
       "      <td>86248.203500</td>\n",
       "    </tr>\n",
       "    <tr>\n",
       "      <th>35</th>\n",
       "      <td>2015-12-01</td>\n",
       "      <td>125513.063131</td>\n",
       "      <td>122386.741038</td>\n",
       "      <td>128663.336672</td>\n",
       "    </tr>\n",
       "    <tr>\n",
       "      <th>36</th>\n",
       "      <td>2016-01-01</td>\n",
       "      <td>75625.688684</td>\n",
       "      <td>72448.837892</td>\n",
       "      <td>78755.756292</td>\n",
       "    </tr>\n",
       "    <tr>\n",
       "      <th>37</th>\n",
       "      <td>2016-02-01</td>\n",
       "      <td>40109.144589</td>\n",
       "      <td>37017.403573</td>\n",
       "      <td>43172.645886</td>\n",
       "    </tr>\n",
       "    <tr>\n",
       "      <th>38</th>\n",
       "      <td>2016-03-01</td>\n",
       "      <td>76664.084864</td>\n",
       "      <td>73285.428507</td>\n",
       "      <td>79788.601640</td>\n",
       "    </tr>\n",
       "  </tbody>\n",
       "</table>\n",
       "</div>"
      ],
      "text/plain": [
       "           ds           yhat     yhat_lower     yhat_upper\n",
       "34 2015-11-01   83193.957369   80136.444874   86248.203500\n",
       "35 2015-12-01  125513.063131  122386.741038  128663.336672\n",
       "36 2016-01-01   75625.688684   72448.837892   78755.756292\n",
       "37 2016-02-01   40109.144589   37017.403573   43172.645886\n",
       "38 2016-03-01   76664.084864   73285.428507   79788.601640"
      ]
     },
     "execution_count": 27,
     "metadata": {},
     "output_type": "execute_result"
    }
   ],
   "source": [
    "# predict for five months in the furure and MS - month start is the frequency\n",
    "future = model.make_future_dataframe(periods = 5, freq = 'MS')  \n",
    "# now lets make the forecasts\n",
    "forecast = model.predict(future)\n",
    "forecast[['ds', 'yhat', 'yhat_lower', 'yhat_upper']].tail()"
   ]
  },
  {
   "cell_type": "code",
   "execution_count": 28,
   "metadata": {},
   "outputs": [
    {
     "data": {
      "image/png": "[encoded data removed]",
      "text/plain": [
       "<Figure size 720x432 with 1 Axes>"
      ]
     },
     "metadata": {},
     "output_type": "display_data"
    }
   ],
   "source": [
    "model.plot(forecast)\n",
    "plt.show()"
   ]
  },
  {
   "cell_type": "code",
   "execution_count": 29,
   "metadata": {},
   "outputs": [
    {
     "data": {
      "image/png": "[encoded data removed]",
      "text/plain": [
       "<Figure size 648x432 with 2 Axes>"
      ]
     },
     "metadata": {},
     "output_type": "display_data"
    }
   ],
   "source": [
    "model.plot_components(forecast)\n",
    "plt.show()"
   ]
  },
  {
   "cell_type": "markdown",
   "metadata": {},
   "source": [
    "## Feature Engineering"
   ]
  },
  {
   "cell_type": "code",
   "execution_count": 30,
   "metadata": {},
   "outputs": [
    {
     "data": {
      "text/html": [
       "<div>\n",
       "<style scoped>\n",
       "    .dataframe tbody tr th:only-of-type {\n",
       "        vertical-align: middle;\n",
       "    }\n",
       "\n",
       "    .dataframe tbody tr th {\n",
       "        vertical-align: top;\n",
       "    }\n",
       "\n",
       "    .dataframe thead th {\n",
       "        text-align: right;\n",
       "    }\n",
       "</style>\n",
       "<table border=\"1\" class=\"dataframe\">\n",
       "  <thead>\n",
       "    <tr style=\"text-align: right;\">\n",
       "      <th></th>\n",
       "      <th>date</th>\n",
       "      <th>date_block_num</th>\n",
       "      <th>shop_id</th>\n",
       "      <th>item_id</th>\n",
       "      <th>item_price</th>\n",
       "      <th>item_cnt_day</th>\n",
       "      <th>item_category_id</th>\n",
       "    </tr>\n",
       "  </thead>\n",
       "  <tbody>\n",
       "    <tr>\n",
       "      <th>0</th>\n",
       "      <td>02.01.2013</td>\n",
       "      <td>0</td>\n",
       "      <td>59</td>\n",
       "      <td>22154</td>\n",
       "      <td>999.00</td>\n",
       "      <td>1.0</td>\n",
       "      <td>37</td>\n",
       "    </tr>\n",
       "    <tr>\n",
       "      <th>1</th>\n",
       "      <td>03.01.2013</td>\n",
       "      <td>0</td>\n",
       "      <td>25</td>\n",
       "      <td>2552</td>\n",
       "      <td>899.00</td>\n",
       "      <td>1.0</td>\n",
       "      <td>58</td>\n",
       "    </tr>\n",
       "    <tr>\n",
       "      <th>2</th>\n",
       "      <td>05.01.2013</td>\n",
       "      <td>0</td>\n",
       "      <td>25</td>\n",
       "      <td>2552</td>\n",
       "      <td>899.00</td>\n",
       "      <td>-1.0</td>\n",
       "      <td>58</td>\n",
       "    </tr>\n",
       "    <tr>\n",
       "      <th>3</th>\n",
       "      <td>06.01.2013</td>\n",
       "      <td>0</td>\n",
       "      <td>25</td>\n",
       "      <td>2554</td>\n",
       "      <td>1709.05</td>\n",
       "      <td>1.0</td>\n",
       "      <td>58</td>\n",
       "    </tr>\n",
       "    <tr>\n",
       "      <th>4</th>\n",
       "      <td>15.01.2013</td>\n",
       "      <td>0</td>\n",
       "      <td>25</td>\n",
       "      <td>2555</td>\n",
       "      <td>1099.00</td>\n",
       "      <td>1.0</td>\n",
       "      <td>56</td>\n",
       "    </tr>\n",
       "  </tbody>\n",
       "</table>\n",
       "</div>"
      ],
      "text/plain": [
       "         date  date_block_num  shop_id  item_id  item_price  item_cnt_day  \\\n",
       "0  02.01.2013               0       59    22154      999.00           1.0   \n",
       "1  03.01.2013               0       25     2552      899.00           1.0   \n",
       "2  05.01.2013               0       25     2552      899.00          -1.0   \n",
       "3  06.01.2013               0       25     2554     1709.05           1.0   \n",
       "4  15.01.2013               0       25     2555     1099.00           1.0   \n",
       "\n",
       "   item_category_id  \n",
       "0                37  \n",
       "1                58  \n",
       "2                58  \n",
       "3                58  \n",
       "4                56  "
      ]
     },
     "execution_count": 30,
     "metadata": {},
     "output_type": "execute_result"
    }
   ],
   "source": [
    "sales_train_merge.head()"
   ]
  },
  {
   "cell_type": "code",
   "execution_count": 31,
   "metadata": {},
   "outputs": [
    {
     "data": {
      "text/html": [
       "<div>\n",
       "<style scoped>\n",
       "    .dataframe tbody tr th:only-of-type {\n",
       "        vertical-align: middle;\n",
       "    }\n",
       "\n",
       "    .dataframe tbody tr th {\n",
       "        vertical-align: top;\n",
       "    }\n",
       "\n",
       "    .dataframe thead tr th {\n",
       "        text-align: left;\n",
       "    }\n",
       "\n",
       "    .dataframe thead tr:last-of-type th {\n",
       "        text-align: right;\n",
       "    }\n",
       "</style>\n",
       "<table border=\"1\" class=\"dataframe\">\n",
       "  <thead>\n",
       "    <tr>\n",
       "      <th></th>\n",
       "      <th></th>\n",
       "      <th></th>\n",
       "      <th colspan=\"2\" halign=\"left\">date</th>\n",
       "      <th>item_price</th>\n",
       "      <th>item_cnt_day</th>\n",
       "    </tr>\n",
       "    <tr>\n",
       "      <th></th>\n",
       "      <th></th>\n",
       "      <th></th>\n",
       "      <th>min</th>\n",
       "      <th>max</th>\n",
       "      <th>mean</th>\n",
       "      <th>sum</th>\n",
       "    </tr>\n",
       "    <tr>\n",
       "      <th>date_block_num</th>\n",
       "      <th>shop_id</th>\n",
       "      <th>item_id</th>\n",
       "      <th></th>\n",
       "      <th></th>\n",
       "      <th></th>\n",
       "      <th></th>\n",
       "    </tr>\n",
       "  </thead>\n",
       "  <tbody>\n",
       "    <tr>\n",
       "      <th rowspan=\"5\" valign=\"top\">0</th>\n",
       "      <th rowspan=\"5\" valign=\"top\">0</th>\n",
       "      <th>32</th>\n",
       "      <td>03.01.2013</td>\n",
       "      <td>31.01.2013</td>\n",
       "      <td>221.0</td>\n",
       "      <td>6.0</td>\n",
       "    </tr>\n",
       "    <tr>\n",
       "      <th>33</th>\n",
       "      <td>03.01.2013</td>\n",
       "      <td>28.01.2013</td>\n",
       "      <td>347.0</td>\n",
       "      <td>3.0</td>\n",
       "    </tr>\n",
       "    <tr>\n",
       "      <th>35</th>\n",
       "      <td>31.01.2013</td>\n",
       "      <td>31.01.2013</td>\n",
       "      <td>247.0</td>\n",
       "      <td>1.0</td>\n",
       "    </tr>\n",
       "    <tr>\n",
       "      <th>43</th>\n",
       "      <td>31.01.2013</td>\n",
       "      <td>31.01.2013</td>\n",
       "      <td>221.0</td>\n",
       "      <td>1.0</td>\n",
       "    </tr>\n",
       "    <tr>\n",
       "      <th>51</th>\n",
       "      <td>13.01.2013</td>\n",
       "      <td>31.01.2013</td>\n",
       "      <td>128.5</td>\n",
       "      <td>2.0</td>\n",
       "    </tr>\n",
       "  </tbody>\n",
       "</table>\n",
       "</div>"
      ],
      "text/plain": [
       "                                      date             item_price item_cnt_day\n",
       "                                       min         max       mean          sum\n",
       "date_block_num shop_id item_id                                                \n",
       "0              0       32       03.01.2013  31.01.2013      221.0          6.0\n",
       "                       33       03.01.2013  28.01.2013      347.0          3.0\n",
       "                       35       31.01.2013  31.01.2013      247.0          1.0\n",
       "                       43       31.01.2013  31.01.2013      221.0          1.0\n",
       "                       51       13.01.2013  31.01.2013      128.5          2.0"
      ]
     },
     "execution_count": 31,
     "metadata": {},
     "output_type": "execute_result"
    }
   ],
   "source": [
    "sales_monthly.head()"
   ]
  },
  {
   "cell_type": "markdown",
   "metadata": {},
   "source": [
    "### Outliers"
   ]
  },
  {
   "cell_type": "code",
   "execution_count": 32,
   "metadata": {},
   "outputs": [
    {
     "data": {
      "image/png": "[encoded data removed]",
      "text/plain": [
       "<Figure size 864x288 with 2 Axes>"
      ]
     },
     "metadata": {
      "needs_background": "light"
     },
     "output_type": "display_data"
    }
   ],
   "source": [
    "plt.subplots(1,2,figsize=(12,4))\n",
    "plt.subplot(1,2,1)\n",
    "sns.boxplot(sales_train_merge['item_price'])\n",
    "plt.subplot(1,2,2)\n",
    "sns.boxplot(sales_train_merge['item_cnt_day'])\n",
    "plt.show()"
   ]
  },
  {
   "cell_type": "code",
   "execution_count": 33,
   "metadata": {},
   "outputs": [],
   "source": [
    "## Removing outliers from item_price\n",
    "## Negative values and values larger then 50000\n",
    "sales_train_merge_new = sales_train_merge[(sales_train_merge['item_price'] > 0) & (sales_train_merge['item_price'] < 80000)]"
   ]
  },
  {
   "cell_type": "code",
   "execution_count": 34,
   "metadata": {},
   "outputs": [],
   "source": [
    "## Removing outliers from item_count\n",
    "## Negative values and values larger then 200\n",
    "sales_train_merge_new = sales_train_merge_new[(sales_train_merge_new['item_cnt_day'] > 0) & (sales_train_merge_new['item_cnt_day'] < 125)]"
   ]
  },
  {
   "cell_type": "code",
   "execution_count": 35,
   "metadata": {},
   "outputs": [
    {
     "data": {
      "image/png": "[encoded data removed]",
      "text/plain": [
       "<Figure size 864x288 with 2 Axes>"
      ]
     },
     "metadata": {
      "needs_background": "light"
     },
     "output_type": "display_data"
    }
   ],
   "source": [
    "plt.subplots(1,2,figsize=(12,4))\n",
    "plt.subplot(1,2,1)\n",
    "sns.boxplot(sales_train_merge_new['item_price'])\n",
    "plt.subplot(1,2,2)\n",
    "sns.boxplot(sales_train_merge_new['item_cnt_day'])\n",
    "plt.show()"
   ]
  },
  {
   "cell_type": "code",
   "execution_count": 36,
   "metadata": {},
   "outputs": [],
   "source": [
    "## Duplicate shops \n",
    "\n",
    "sales_train_merge_new.loc[sales_train_merge_new.shop_id == 0, 'shop_id'] = 57\n",
    "test.loc[test.shop_id == 0, 'shop_id'] = 57\n",
    "\n",
    "sales_train_merge_new.loc[sales_train_merge_new.shop_id == 1, 'shop_id'] = 58\n",
    "test.loc[test.shop_id == 1, 'shop_id'] = 58\n",
    "\n",
    "sales_train_merge_new.loc[sales_train_merge_new.shop_id == 10, 'shop_id'] = 11\n",
    "test.loc[test.shop_id == 10, 'shop_id'] = 11"
   ]
  },
  {
   "cell_type": "code",
   "execution_count": 37,
   "metadata": {},
   "outputs": [],
   "source": [
    "## Only use shops and itens that appear in the test set\n",
    "\n",
    "test_shop_ids = test['shop_id'].unique()\n",
    "test_item_ids = test['item_id'].unique()\n",
    "\n",
    "sales_train_new = sales_train_merge_new[sales_train_merge_new['shop_id'].isin(test_shop_ids)]\n",
    "sales_train_new = sales_train_new[sales_train_new['item_id'].isin(test_item_ids)]"
   ]
  },
  {
   "cell_type": "code",
   "execution_count": 38,
   "metadata": {},
   "outputs": [
    {
     "data": {
      "text/plain": [
       "(1224802, 7)"
      ]
     },
     "execution_count": 38,
     "metadata": {},
     "output_type": "execute_result"
    }
   ],
   "source": [
    "sales_train_new.shape"
   ]
  },
  {
   "cell_type": "code",
   "execution_count": 39,
   "metadata": {},
   "outputs": [
    {
     "data": {
      "text/html": [
       "<div>\n",
       "<style scoped>\n",
       "    .dataframe tbody tr th:only-of-type {\n",
       "        vertical-align: middle;\n",
       "    }\n",
       "\n",
       "    .dataframe tbody tr th {\n",
       "        vertical-align: top;\n",
       "    }\n",
       "\n",
       "    .dataframe thead th {\n",
       "        text-align: right;\n",
       "    }\n",
       "</style>\n",
       "<table border=\"1\" class=\"dataframe\">\n",
       "  <thead>\n",
       "    <tr style=\"text-align: right;\">\n",
       "      <th></th>\n",
       "      <th>date</th>\n",
       "      <th>date_block_num</th>\n",
       "      <th>shop_id</th>\n",
       "      <th>item_id</th>\n",
       "      <th>item_price</th>\n",
       "      <th>item_cnt_day</th>\n",
       "      <th>item_category_id</th>\n",
       "    </tr>\n",
       "  </thead>\n",
       "  <tbody>\n",
       "    <tr>\n",
       "      <th>0</th>\n",
       "      <td>02.01.2013</td>\n",
       "      <td>0</td>\n",
       "      <td>59</td>\n",
       "      <td>22154</td>\n",
       "      <td>999.0</td>\n",
       "      <td>1.0</td>\n",
       "      <td>37</td>\n",
       "    </tr>\n",
       "    <tr>\n",
       "      <th>10</th>\n",
       "      <td>03.01.2013</td>\n",
       "      <td>0</td>\n",
       "      <td>25</td>\n",
       "      <td>2574</td>\n",
       "      <td>399.0</td>\n",
       "      <td>2.0</td>\n",
       "      <td>55</td>\n",
       "    </tr>\n",
       "    <tr>\n",
       "      <th>11</th>\n",
       "      <td>05.01.2013</td>\n",
       "      <td>0</td>\n",
       "      <td>25</td>\n",
       "      <td>2574</td>\n",
       "      <td>399.0</td>\n",
       "      <td>1.0</td>\n",
       "      <td>55</td>\n",
       "    </tr>\n",
       "    <tr>\n",
       "      <th>12</th>\n",
       "      <td>07.01.2013</td>\n",
       "      <td>0</td>\n",
       "      <td>25</td>\n",
       "      <td>2574</td>\n",
       "      <td>399.0</td>\n",
       "      <td>1.0</td>\n",
       "      <td>55</td>\n",
       "    </tr>\n",
       "    <tr>\n",
       "      <th>13</th>\n",
       "      <td>08.01.2013</td>\n",
       "      <td>0</td>\n",
       "      <td>25</td>\n",
       "      <td>2574</td>\n",
       "      <td>399.0</td>\n",
       "      <td>2.0</td>\n",
       "      <td>55</td>\n",
       "    </tr>\n",
       "  </tbody>\n",
       "</table>\n",
       "</div>"
      ],
      "text/plain": [
       "          date  date_block_num  shop_id  item_id  item_price  item_cnt_day  \\\n",
       "0   02.01.2013               0       59    22154       999.0           1.0   \n",
       "10  03.01.2013               0       25     2574       399.0           2.0   \n",
       "11  05.01.2013               0       25     2574       399.0           1.0   \n",
       "12  07.01.2013               0       25     2574       399.0           1.0   \n",
       "13  08.01.2013               0       25     2574       399.0           2.0   \n",
       "\n",
       "    item_category_id  \n",
       "0                 37  \n",
       "10                55  \n",
       "11                55  \n",
       "12                55  \n",
       "13                55  "
      ]
     },
     "execution_count": 39,
     "metadata": {},
     "output_type": "execute_result"
    }
   ],
   "source": [
    "sales_train_new.head()"
   ]
  },
  {
   "cell_type": "code",
   "execution_count": 40,
   "metadata": {},
   "outputs": [
    {
     "data": {
      "text/plain": [
       "198072"
      ]
     },
     "execution_count": 40,
     "metadata": {},
     "output_type": "execute_result"
    }
   ],
   "source": [
    "sales_train_new['item_id'].nunique()*sales_train_new['shop_id'].nunique()"
   ]
  },
  {
   "cell_type": "code",
   "execution_count": 41,
   "metadata": {},
   "outputs": [
    {
     "data": {
      "text/plain": [
       "214200"
      ]
     },
     "execution_count": 41,
     "metadata": {},
     "output_type": "execute_result"
    }
   ],
   "source": [
    "test['shop_id'].nunique()*test['item_id'].nunique()"
   ]
  },
  {
   "cell_type": "code",
   "execution_count": 42,
   "metadata": {},
   "outputs": [],
   "source": [
    "sales_train_new = sales_train_new.sort_values('date').groupby(['date_block_num', 'shop_id', 'item_category_id', 'item_id'] \n",
    "                                                               ,as_index=False).agg({'item_price':['sum', 'mean'], 'item_cnt_day':['sum', 'mean','count']})\n",
    "sales_train_new.columns = ['date_block_num', 'shop_id', 'item_category_id', 'item_id', 'item_price', 'mean_item_price', 'item_cnt', 'mean_item_cnt', 'transactions']"
   ]
  },
  {
   "cell_type": "code",
   "execution_count": 43,
   "metadata": {},
   "outputs": [
    {
     "data": {
      "text/html": [
       "<div>\n",
       "<style scoped>\n",
       "    .dataframe tbody tr th:only-of-type {\n",
       "        vertical-align: middle;\n",
       "    }\n",
       "\n",
       "    .dataframe tbody tr th {\n",
       "        vertical-align: top;\n",
       "    }\n",
       "\n",
       "    .dataframe thead th {\n",
       "        text-align: right;\n",
       "    }\n",
       "</style>\n",
       "<table border=\"1\" class=\"dataframe\">\n",
       "  <thead>\n",
       "    <tr style=\"text-align: right;\">\n",
       "      <th></th>\n",
       "      <th>date_block_num</th>\n",
       "      <th>shop_id</th>\n",
       "      <th>item_category_id</th>\n",
       "      <th>item_id</th>\n",
       "      <th>item_price</th>\n",
       "      <th>mean_item_price</th>\n",
       "      <th>item_cnt</th>\n",
       "      <th>mean_item_cnt</th>\n",
       "      <th>transactions</th>\n",
       "    </tr>\n",
       "  </thead>\n",
       "  <tbody>\n",
       "    <tr>\n",
       "      <th>0</th>\n",
       "      <td>0</td>\n",
       "      <td>2</td>\n",
       "      <td>2</td>\n",
       "      <td>5572</td>\n",
       "      <td>10730.0</td>\n",
       "      <td>1532.857143</td>\n",
       "      <td>9.0</td>\n",
       "      <td>1.285714</td>\n",
       "      <td>7</td>\n",
       "    </tr>\n",
       "    <tr>\n",
       "      <th>1</th>\n",
       "      <td>0</td>\n",
       "      <td>2</td>\n",
       "      <td>2</td>\n",
       "      <td>5643</td>\n",
       "      <td>2390.0</td>\n",
       "      <td>2390.000000</td>\n",
       "      <td>1.0</td>\n",
       "      <td>1.000000</td>\n",
       "      <td>1</td>\n",
       "    </tr>\n",
       "    <tr>\n",
       "      <th>2</th>\n",
       "      <td>0</td>\n",
       "      <td>2</td>\n",
       "      <td>5</td>\n",
       "      <td>5583</td>\n",
       "      <td>1188.3</td>\n",
       "      <td>594.150000</td>\n",
       "      <td>2.0</td>\n",
       "      <td>1.000000</td>\n",
       "      <td>2</td>\n",
       "    </tr>\n",
       "    <tr>\n",
       "      <th>3</th>\n",
       "      <td>0</td>\n",
       "      <td>2</td>\n",
       "      <td>6</td>\n",
       "      <td>7893</td>\n",
       "      <td>5970.0</td>\n",
       "      <td>1990.000000</td>\n",
       "      <td>3.0</td>\n",
       "      <td>1.000000</td>\n",
       "      <td>3</td>\n",
       "    </tr>\n",
       "    <tr>\n",
       "      <th>4</th>\n",
       "      <td>0</td>\n",
       "      <td>2</td>\n",
       "      <td>6</td>\n",
       "      <td>7894</td>\n",
       "      <td>1490.0</td>\n",
       "      <td>1490.000000</td>\n",
       "      <td>1.0</td>\n",
       "      <td>1.000000</td>\n",
       "      <td>1</td>\n",
       "    </tr>\n",
       "  </tbody>\n",
       "</table>\n",
       "</div>"
      ],
      "text/plain": [
       "   date_block_num  shop_id  item_category_id  item_id  item_price  \\\n",
       "0               0        2                 2     5572     10730.0   \n",
       "1               0        2                 2     5643      2390.0   \n",
       "2               0        2                 5     5583      1188.3   \n",
       "3               0        2                 6     7893      5970.0   \n",
       "4               0        2                 6     7894      1490.0   \n",
       "\n",
       "   mean_item_price  item_cnt  mean_item_cnt  transactions  \n",
       "0      1532.857143       9.0       1.285714             7  \n",
       "1      2390.000000       1.0       1.000000             1  \n",
       "2       594.150000       2.0       1.000000             2  \n",
       "3      1990.000000       3.0       1.000000             3  \n",
       "4      1490.000000       1.0       1.000000             1  "
      ]
     },
     "execution_count": 43,
     "metadata": {},
     "output_type": "execute_result"
    }
   ],
   "source": [
    "sales_train_new.head()"
   ]
  },
  {
   "cell_type": "code",
   "execution_count": 44,
   "metadata": {},
   "outputs": [],
   "source": [
    "sales_train_new['item_cnt_month'] = sales_train_new.sort_values('date_block_num').groupby(['shop_id', 'item_id'])['item_cnt'].shift(-1)\n"
   ]
  },
  {
   "cell_type": "code",
   "execution_count": 45,
   "metadata": {},
   "outputs": [
    {
     "data": {
      "text/plain": [
       "(601498, 10)"
      ]
     },
     "execution_count": 45,
     "metadata": {},
     "output_type": "execute_result"
    }
   ],
   "source": [
    "sales_train_new.shape"
   ]
  },
  {
   "cell_type": "code",
   "execution_count": 46,
   "metadata": {},
   "outputs": [],
   "source": [
    "shop_ids = sales_train_new['shop_id'].unique()\n",
    "item_ids = sales_train_new['item_id'].unique()\n",
    "empty_df = []\n",
    "for i in range(34):\n",
    "    for shop in shop_ids:\n",
    "        for item in item_ids:\n",
    "            empty_df.append([i, shop, item])\n",
    "    \n",
    "empty_df = pd.DataFrame(empty_df, columns=['date_block_num','shop_id','item_id'])\n",
    "\n",
    "sales_train_new = pd.merge(empty_df, sales_train_new, on=['date_block_num','shop_id','item_id'], how='left')\n",
    "sales_train_new.fillna(0, inplace=True)"
   ]
  },
  {
   "cell_type": "code",
   "execution_count": 47,
   "metadata": {},
   "outputs": [],
   "source": [
    "## Creating my label\n",
    "sales_train_new['item_cnt_next'] = sales_train_new.sort_values('date_block_num').groupby(['shop_id', 'item_id'])['item_cnt'].shift(-1)"
   ]
  },
  {
   "cell_type": "code",
   "execution_count": 48,
   "metadata": {},
   "outputs": [
    {
     "data": {
      "text/plain": [
       "(6734448, 11)"
      ]
     },
     "execution_count": 48,
     "metadata": {},
     "output_type": "execute_result"
    }
   ],
   "source": [
    "sales_train_new.shape"
   ]
  },
  {
   "cell_type": "code",
   "execution_count": 49,
   "metadata": {},
   "outputs": [
    {
     "data": {
      "text/html": [
       "<div>\n",
       "<style scoped>\n",
       "    .dataframe tbody tr th:only-of-type {\n",
       "        vertical-align: middle;\n",
       "    }\n",
       "\n",
       "    .dataframe tbody tr th {\n",
       "        vertical-align: top;\n",
       "    }\n",
       "\n",
       "    .dataframe thead th {\n",
       "        text-align: right;\n",
       "    }\n",
       "</style>\n",
       "<table border=\"1\" class=\"dataframe\">\n",
       "  <thead>\n",
       "    <tr style=\"text-align: right;\">\n",
       "      <th></th>\n",
       "      <th>date_block_num</th>\n",
       "      <th>shop_id</th>\n",
       "      <th>item_id</th>\n",
       "      <th>item_category_id</th>\n",
       "      <th>item_price</th>\n",
       "      <th>mean_item_price</th>\n",
       "      <th>item_cnt</th>\n",
       "      <th>mean_item_cnt</th>\n",
       "      <th>transactions</th>\n",
       "      <th>item_cnt_month</th>\n",
       "      <th>item_cnt_next</th>\n",
       "    </tr>\n",
       "  </thead>\n",
       "  <tbody>\n",
       "    <tr>\n",
       "      <th>0</th>\n",
       "      <td>0</td>\n",
       "      <td>2</td>\n",
       "      <td>5572</td>\n",
       "      <td>2.0</td>\n",
       "      <td>10730.0</td>\n",
       "      <td>1532.857143</td>\n",
       "      <td>9.0</td>\n",
       "      <td>1.285714</td>\n",
       "      <td>7.0</td>\n",
       "      <td>1.0</td>\n",
       "      <td>1.0</td>\n",
       "    </tr>\n",
       "    <tr>\n",
       "      <th>1</th>\n",
       "      <td>0</td>\n",
       "      <td>2</td>\n",
       "      <td>5643</td>\n",
       "      <td>2.0</td>\n",
       "      <td>2390.0</td>\n",
       "      <td>2390.000000</td>\n",
       "      <td>1.0</td>\n",
       "      <td>1.000000</td>\n",
       "      <td>1.0</td>\n",
       "      <td>5.0</td>\n",
       "      <td>0.0</td>\n",
       "    </tr>\n",
       "    <tr>\n",
       "      <th>2</th>\n",
       "      <td>0</td>\n",
       "      <td>2</td>\n",
       "      <td>5583</td>\n",
       "      <td>5.0</td>\n",
       "      <td>1188.3</td>\n",
       "      <td>594.150000</td>\n",
       "      <td>2.0</td>\n",
       "      <td>1.000000</td>\n",
       "      <td>2.0</td>\n",
       "      <td>1.0</td>\n",
       "      <td>1.0</td>\n",
       "    </tr>\n",
       "    <tr>\n",
       "      <th>3</th>\n",
       "      <td>0</td>\n",
       "      <td>2</td>\n",
       "      <td>7893</td>\n",
       "      <td>6.0</td>\n",
       "      <td>5970.0</td>\n",
       "      <td>1990.000000</td>\n",
       "      <td>3.0</td>\n",
       "      <td>1.000000</td>\n",
       "      <td>3.0</td>\n",
       "      <td>2.0</td>\n",
       "      <td>2.0</td>\n",
       "    </tr>\n",
       "    <tr>\n",
       "      <th>4</th>\n",
       "      <td>0</td>\n",
       "      <td>2</td>\n",
       "      <td>7894</td>\n",
       "      <td>6.0</td>\n",
       "      <td>1490.0</td>\n",
       "      <td>1490.000000</td>\n",
       "      <td>1.0</td>\n",
       "      <td>1.000000</td>\n",
       "      <td>1.0</td>\n",
       "      <td>2.0</td>\n",
       "      <td>2.0</td>\n",
       "    </tr>\n",
       "  </tbody>\n",
       "</table>\n",
       "</div>"
      ],
      "text/plain": [
       "   date_block_num  shop_id  item_id  item_category_id  item_price  \\\n",
       "0               0        2     5572               2.0     10730.0   \n",
       "1               0        2     5643               2.0      2390.0   \n",
       "2               0        2     5583               5.0      1188.3   \n",
       "3               0        2     7893               6.0      5970.0   \n",
       "4               0        2     7894               6.0      1490.0   \n",
       "\n",
       "   mean_item_price  item_cnt  mean_item_cnt  transactions  item_cnt_month  \\\n",
       "0      1532.857143       9.0       1.285714           7.0             1.0   \n",
       "1      2390.000000       1.0       1.000000           1.0             5.0   \n",
       "2       594.150000       2.0       1.000000           2.0             1.0   \n",
       "3      1990.000000       3.0       1.000000           3.0             2.0   \n",
       "4      1490.000000       1.0       1.000000           1.0             2.0   \n",
       "\n",
       "   item_cnt_next  \n",
       "0            1.0  \n",
       "1            0.0  \n",
       "2            1.0  \n",
       "3            2.0  \n",
       "4            2.0  "
      ]
     },
     "execution_count": 49,
     "metadata": {},
     "output_type": "execute_result"
    }
   ],
   "source": [
    "sales_train_new.head()"
   ]
  },
  {
   "cell_type": "code",
   "execution_count": 50,
   "metadata": {},
   "outputs": [],
   "source": [
    "# Extract time based features.\n",
    "sales_train_new['year'] = sales_train_new['date_block_num'].apply(lambda x: ((x//12) + 2013))\n",
    "sales_train_new['month'] = sales_train_new['date_block_num'].apply(lambda x: (x % 12))"
   ]
  },
  {
   "cell_type": "code",
   "execution_count": 51,
   "metadata": {},
   "outputs": [],
   "source": [
    "## Unitary\n",
    "\n",
    "sales_train_new['item_price_unit'] = sales_train_new['item_price'] // sales_train_new['item_cnt']\n",
    "sales_train_new['item_price_unit'].fillna(0, inplace=True)"
   ]
  },
  {
   "cell_type": "code",
   "execution_count": 52,
   "metadata": {},
   "outputs": [],
   "source": [
    "## group based\n",
    "\n",
    "\n",
    "\n",
    "gp_item_price = sales_train_new.sort_values('date_block_num').groupby(['item_id'], as_index=False).agg({'item_price':[np.min, np.max]})\n",
    "gp_item_price.columns = ['item_id', 'hist_min_item_price', 'hist_max_item_price']\n",
    "\n",
    "sales_train_new = pd.merge(sales_train_new, gp_item_price, on='item_id', how='left')"
   ]
  },
  {
   "cell_type": "code",
   "execution_count": 53,
   "metadata": {},
   "outputs": [],
   "source": [
    "## How much the price changed\n",
    "\n",
    "sales_train_new['price_increase'] = sales_train_new['item_price'] - sales_train_new['hist_min_item_price']\n",
    "sales_train_new['price_decrease'] = sales_train_new['hist_max_item_price'] - sales_train_new['item_price']"
   ]
  },
  {
   "cell_type": "code",
   "execution_count": null,
   "metadata": {},
   "outputs": [],
   "source": [
    "\n",
    "\n",
    "# Min value\n",
    "f_min = lambda x: x.rolling(window=3, min_periods=1).min()\n",
    "# Max value\n",
    "f_max = lambda x: x.rolling(window=3, min_periods=1).max()\n",
    "# Mean value\n",
    "f_mean = lambda x: x.rolling(window=3, min_periods=1).mean()\n",
    "# Standard deviation\n",
    "f_std = lambda x: x.rolling(window=3, min_periods=1).std()\n",
    "\n",
    "function_list = [f_min, f_max, f_mean, f_std]\n",
    "function_name = ['min', 'max', 'mean', 'std']\n",
    "\n",
    "for i in range(len(function_list)):\n",
    "    sales_train_new[('item_cnt_%s' % function_name[i])] = sales_train_new.sort_values('date_block_num').groupby(['shop_id', 'item_category_id', 'item_id'])['item_cnt'].apply(function_list[i])\n",
    "\n",
    "# Fill the empty std features with 0\n",
    "sales_train_new['item_cnt_std'].fillna(0, inplace=True)\n",
    "\n"
   ]
  },
  {
   "cell_type": "code",
   "execution_count": null,
   "metadata": {},
   "outputs": [],
   "source": [
    "\n",
    "lag_list = [1, 2, 3]\n",
    "\n",
    "for lag in lag_list:\n",
    "    ft_name = ('item_cnt_shifted%s' % lag)\n",
    "    sales_train_new[ft_name] = sales_train_new.sort_values('date_block_num').groupby(['shop_id', 'item_category_id', 'item_id'])['item_cnt'].shift(lag)\n",
    "    # Fill the empty shifted features with 0\n",
    "    sales_train_new[ft_name].fillna(0, inplace=True)\n",
    "\n"
   ]
  },
  {
   "cell_type": "code",
   "execution_count": null,
   "metadata": {},
   "outputs": [],
   "source": [
    "sales_train_new['item_trend'] = sales_train_new['item_cnt']\n",
    "\n",
    "for lag in lag_list:\n",
    "    ft_name = ('item_cnt_shifted%s' % lag)\n",
    "    sales_train_new['item_trend'] -= sales_train_new[ft_name]\n",
    "\n",
    "sales_train_new['item_trend'] /= len(lag_list) + 1"
   ]
  },
  {
   "cell_type": "markdown",
   "metadata": {},
   "source": [
    "## Model"
   ]
  },
  {
   "cell_type": "markdown",
   "metadata": {},
   "source": [
    "**Split**"
   ]
  },
  {
   "cell_type": "code",
   "execution_count": 52,
   "metadata": {},
   "outputs": [
    {
     "name": "stdout",
     "output_type": "stream",
     "text": [
      "Train set records: 4951800\n",
      "Validation set records: 990360\n",
      "Test set records: 198072\n",
      "Train set records: 4951800 (74% of complete data)\n",
      "Validation set records: 990360 (15% of complete data)\n"
     ]
    }
   ],
   "source": [
    "train_set = sales_train_new.query('date_block_num >= 3 and date_block_num < 28').copy()\n",
    "validation_set = sales_train_new.query('date_block_num >= 28 and date_block_num < 33').copy()\n",
    "test_set = sales_train_new.query('date_block_num == 33').copy()\n",
    "\n",
    "train_set.dropna(subset=['item_cnt_month'], inplace=True)\n",
    "validation_set.dropna(subset=['item_cnt_month'], inplace=True)\n",
    "\n",
    "train_set.dropna(inplace=True)\n",
    "validation_set.dropna(inplace=True)\n",
    "\n",
    "print('Train set records:', train_set.shape[0])\n",
    "print('Validation set records:', validation_set.shape[0])\n",
    "print('Test set records:', test_set.shape[0])\n",
    "\n",
    "print('Train set records: %s (%.f%% of complete data)' % (train_set.shape[0], ((train_set.shape[0]/sales_train_new.shape[0])*100)))\n",
    "print('Validation set records: %s (%.f%% of complete data)' % (validation_set.shape[0], ((validation_set.shape[0]/sales_train_new.shape[0])*100)))"
   ]
  },
  {
   "cell_type": "markdown",
   "metadata": {},
   "source": [
    "**Mean Enconding**"
   ]
  },
  {
   "cell_type": "code",
   "execution_count": 53,
   "metadata": {},
   "outputs": [
    {
     "data": {
      "text/html": [
       "<div>\n",
       "<style scoped>\n",
       "    .dataframe tbody tr th:only-of-type {\n",
       "        vertical-align: middle;\n",
       "    }\n",
       "\n",
       "    .dataframe tbody tr th {\n",
       "        vertical-align: top;\n",
       "    }\n",
       "\n",
       "    .dataframe thead th {\n",
       "        text-align: right;\n",
       "    }\n",
       "</style>\n",
       "<table border=\"1\" class=\"dataframe\">\n",
       "  <thead>\n",
       "    <tr style=\"text-align: right;\">\n",
       "      <th></th>\n",
       "      <th>date_block_num</th>\n",
       "      <th>shop_id</th>\n",
       "      <th>item_id</th>\n",
       "      <th>item_category_id</th>\n",
       "      <th>item_price</th>\n",
       "      <th>mean_item_price</th>\n",
       "      <th>item_cnt</th>\n",
       "      <th>mean_item_cnt</th>\n",
       "      <th>transactions</th>\n",
       "      <th>item_cnt_month</th>\n",
       "      <th>item_cnt_next</th>\n",
       "      <th>year</th>\n",
       "      <th>month</th>\n",
       "      <th>item_price_unit</th>\n",
       "      <th>hist_min_item_price</th>\n",
       "      <th>hist_max_item_price</th>\n",
       "      <th>price_increase</th>\n",
       "      <th>price_decrease</th>\n",
       "      <th>item_cnt_min</th>\n",
       "      <th>item_cnt_max</th>\n",
       "      <th>item_cnt_mean</th>\n",
       "      <th>item_cnt_std</th>\n",
       "      <th>item_cnt_shifted1</th>\n",
       "      <th>item_cnt_shifted2</th>\n",
       "      <th>item_cnt_shifted3</th>\n",
       "      <th>item_trend</th>\n",
       "    </tr>\n",
       "  </thead>\n",
       "  <tbody>\n",
       "    <tr>\n",
       "      <th>594216</th>\n",
       "      <td>3</td>\n",
       "      <td>2</td>\n",
       "      <td>5572</td>\n",
       "      <td>2.0</td>\n",
       "      <td>2980.0</td>\n",
       "      <td>1490.0</td>\n",
       "      <td>2.0</td>\n",
       "      <td>1.0</td>\n",
       "      <td>2.0</td>\n",
       "      <td>2.0</td>\n",
       "      <td>2.0</td>\n",
       "      <td>2013</td>\n",
       "      <td>3</td>\n",
       "      <td>1490.0</td>\n",
       "      <td>0.0</td>\n",
       "      <td>18979.5</td>\n",
       "      <td>2980.0</td>\n",
       "      <td>15999.5</td>\n",
       "      <td>1.0</td>\n",
       "      <td>2.0</td>\n",
       "      <td>1.333333</td>\n",
       "      <td>0.577350</td>\n",
       "      <td>1.0</td>\n",
       "      <td>1.0</td>\n",
       "      <td>9.0</td>\n",
       "      <td>-2.25</td>\n",
       "    </tr>\n",
       "    <tr>\n",
       "      <th>594217</th>\n",
       "      <td>3</td>\n",
       "      <td>2</td>\n",
       "      <td>5643</td>\n",
       "      <td>0.0</td>\n",
       "      <td>0.0</td>\n",
       "      <td>0.0</td>\n",
       "      <td>0.0</td>\n",
       "      <td>0.0</td>\n",
       "      <td>0.0</td>\n",
       "      <td>0.0</td>\n",
       "      <td>5.0</td>\n",
       "      <td>2013</td>\n",
       "      <td>3</td>\n",
       "      <td>0.0</td>\n",
       "      <td>0.0</td>\n",
       "      <td>35260.0</td>\n",
       "      <td>0.0</td>\n",
       "      <td>35260.0</td>\n",
       "      <td>0.0</td>\n",
       "      <td>0.0</td>\n",
       "      <td>0.000000</td>\n",
       "      <td>0.000000</td>\n",
       "      <td>0.0</td>\n",
       "      <td>0.0</td>\n",
       "      <td>0.0</td>\n",
       "      <td>0.00</td>\n",
       "    </tr>\n",
       "    <tr>\n",
       "      <th>594218</th>\n",
       "      <td>3</td>\n",
       "      <td>2</td>\n",
       "      <td>5583</td>\n",
       "      <td>0.0</td>\n",
       "      <td>0.0</td>\n",
       "      <td>0.0</td>\n",
       "      <td>0.0</td>\n",
       "      <td>0.0</td>\n",
       "      <td>0.0</td>\n",
       "      <td>0.0</td>\n",
       "      <td>0.0</td>\n",
       "      <td>2013</td>\n",
       "      <td>3</td>\n",
       "      <td>0.0</td>\n",
       "      <td>0.0</td>\n",
       "      <td>5592.0</td>\n",
       "      <td>0.0</td>\n",
       "      <td>5592.0</td>\n",
       "      <td>0.0</td>\n",
       "      <td>0.0</td>\n",
       "      <td>0.000000</td>\n",
       "      <td>0.000000</td>\n",
       "      <td>0.0</td>\n",
       "      <td>0.0</td>\n",
       "      <td>0.0</td>\n",
       "      <td>0.00</td>\n",
       "    </tr>\n",
       "    <tr>\n",
       "      <th>594219</th>\n",
       "      <td>3</td>\n",
       "      <td>2</td>\n",
       "      <td>7893</td>\n",
       "      <td>6.0</td>\n",
       "      <td>9350.0</td>\n",
       "      <td>1870.0</td>\n",
       "      <td>5.0</td>\n",
       "      <td>1.0</td>\n",
       "      <td>5.0</td>\n",
       "      <td>1.0</td>\n",
       "      <td>1.0</td>\n",
       "      <td>2013</td>\n",
       "      <td>3</td>\n",
       "      <td>1870.0</td>\n",
       "      <td>0.0</td>\n",
       "      <td>42630.0</td>\n",
       "      <td>9350.0</td>\n",
       "      <td>33280.0</td>\n",
       "      <td>1.0</td>\n",
       "      <td>5.0</td>\n",
       "      <td>2.666667</td>\n",
       "      <td>2.081666</td>\n",
       "      <td>1.0</td>\n",
       "      <td>2.0</td>\n",
       "      <td>3.0</td>\n",
       "      <td>-0.25</td>\n",
       "    </tr>\n",
       "    <tr>\n",
       "      <th>594220</th>\n",
       "      <td>3</td>\n",
       "      <td>2</td>\n",
       "      <td>7894</td>\n",
       "      <td>0.0</td>\n",
       "      <td>0.0</td>\n",
       "      <td>0.0</td>\n",
       "      <td>0.0</td>\n",
       "      <td>0.0</td>\n",
       "      <td>0.0</td>\n",
       "      <td>0.0</td>\n",
       "      <td>0.0</td>\n",
       "      <td>2013</td>\n",
       "      <td>3</td>\n",
       "      <td>0.0</td>\n",
       "      <td>0.0</td>\n",
       "      <td>31290.0</td>\n",
       "      <td>0.0</td>\n",
       "      <td>31290.0</td>\n",
       "      <td>0.0</td>\n",
       "      <td>0.0</td>\n",
       "      <td>0.000000</td>\n",
       "      <td>0.000000</td>\n",
       "      <td>0.0</td>\n",
       "      <td>0.0</td>\n",
       "      <td>0.0</td>\n",
       "      <td>0.00</td>\n",
       "    </tr>\n",
       "  </tbody>\n",
       "</table>\n",
       "</div>"
      ],
      "text/plain": [
       "        date_block_num  shop_id  item_id  item_category_id  item_price  \\\n",
       "594216               3        2     5572               2.0      2980.0   \n",
       "594217               3        2     5643               0.0         0.0   \n",
       "594218               3        2     5583               0.0         0.0   \n",
       "594219               3        2     7893               6.0      9350.0   \n",
       "594220               3        2     7894               0.0         0.0   \n",
       "\n",
       "        mean_item_price  item_cnt  mean_item_cnt  transactions  \\\n",
       "594216           1490.0       2.0            1.0           2.0   \n",
       "594217              0.0       0.0            0.0           0.0   \n",
       "594218              0.0       0.0            0.0           0.0   \n",
       "594219           1870.0       5.0            1.0           5.0   \n",
       "594220              0.0       0.0            0.0           0.0   \n",
       "\n",
       "        item_cnt_month  item_cnt_next  year  month  item_price_unit  \\\n",
       "594216             2.0            2.0  2013      3           1490.0   \n",
       "594217             0.0            5.0  2013      3              0.0   \n",
       "594218             0.0            0.0  2013      3              0.0   \n",
       "594219             1.0            1.0  2013      3           1870.0   \n",
       "594220             0.0            0.0  2013      3              0.0   \n",
       "\n",
       "        hist_min_item_price  hist_max_item_price  price_increase  \\\n",
       "594216                  0.0              18979.5          2980.0   \n",
       "594217                  0.0              35260.0             0.0   \n",
       "594218                  0.0               5592.0             0.0   \n",
       "594219                  0.0              42630.0          9350.0   \n",
       "594220                  0.0              31290.0             0.0   \n",
       "\n",
       "        price_decrease  item_cnt_min  item_cnt_max  item_cnt_mean  \\\n",
       "594216         15999.5           1.0           2.0       1.333333   \n",
       "594217         35260.0           0.0           0.0       0.000000   \n",
       "594218          5592.0           0.0           0.0       0.000000   \n",
       "594219         33280.0           1.0           5.0       2.666667   \n",
       "594220         31290.0           0.0           0.0       0.000000   \n",
       "\n",
       "        item_cnt_std  item_cnt_shifted1  item_cnt_shifted2  item_cnt_shifted3  \\\n",
       "594216      0.577350                1.0                1.0                9.0   \n",
       "594217      0.000000                0.0                0.0                0.0   \n",
       "594218      0.000000                0.0                0.0                0.0   \n",
       "594219      2.081666                1.0                2.0                3.0   \n",
       "594220      0.000000                0.0                0.0                0.0   \n",
       "\n",
       "        item_trend  \n",
       "594216       -2.25  \n",
       "594217        0.00  \n",
       "594218        0.00  \n",
       "594219       -0.25  \n",
       "594220        0.00  "
      ]
     },
     "execution_count": 53,
     "metadata": {},
     "output_type": "execute_result"
    }
   ],
   "source": [
    "train_set.head()"
   ]
  },
  {
   "cell_type": "code",
   "execution_count": 54,
   "metadata": {},
   "outputs": [],
   "source": [
    "# Shop mean encoding.\n",
    "gp_shop_mean = train_set.groupby(['shop_id']).agg({'item_cnt_month': ['mean']})\n",
    "gp_shop_mean.columns = ['shop_mean']\n",
    "gp_shop_mean.reset_index(inplace=True)\n",
    "# Item mean encoding.\n",
    "gp_item_mean = train_set.groupby(['item_id']).agg({'item_cnt_month': ['mean']})\n",
    "gp_item_mean.columns = ['item_mean']\n",
    "gp_item_mean.reset_index(inplace=True)\n",
    "# Shop with item mean encoding.\n",
    "gp_shop_item_mean = train_set.groupby(['shop_id', 'item_id']).agg({'item_cnt_month': ['mean']})\n",
    "gp_shop_item_mean.columns = ['shop_item_mean']\n",
    "gp_shop_item_mean.reset_index(inplace=True)\n",
    "# Year mean encoding.\n",
    "gp_year_mean = train_set.groupby(['year']).agg({'item_cnt_month': ['mean']})\n",
    "gp_year_mean.columns = ['year_mean']\n",
    "gp_year_mean.reset_index(inplace=True)\n",
    "# Month mean encoding.\n",
    "gp_month_mean = train_set.groupby(['month']).agg({'item_cnt_month': ['mean']})\n",
    "gp_month_mean.columns = ['month_mean']\n",
    "gp_month_mean.reset_index(inplace=True)\n",
    "\n",
    "# Add meand encoding features to train set.\n",
    "train_set = pd.merge(train_set, gp_shop_mean, on=['shop_id'], how='left')\n",
    "train_set = pd.merge(train_set, gp_item_mean, on=['item_id'], how='left')\n",
    "train_set = pd.merge(train_set, gp_shop_item_mean, on=['shop_id', 'item_id'], how='left')\n",
    "train_set = pd.merge(train_set, gp_year_mean, on=['year'], how='left')\n",
    "train_set = pd.merge(train_set, gp_month_mean, on=['month'], how='left')\n",
    "# Add meand encoding features to validation set.\n",
    "validation_set = pd.merge(validation_set, gp_shop_mean, on=['shop_id'], how='left')\n",
    "validation_set = pd.merge(validation_set, gp_item_mean, on=['item_id'], how='left')\n",
    "validation_set = pd.merge(validation_set, gp_shop_item_mean, on=['shop_id', 'item_id'], how='left')\n",
    "validation_set = pd.merge(validation_set, gp_year_mean, on=['year'], how='left')\n",
    "validation_set = pd.merge(validation_set, gp_month_mean, on=['month'], how='left')"
   ]
  },
  {
   "cell_type": "code",
   "execution_count": 55,
   "metadata": {},
   "outputs": [
    {
     "data": {
      "text/html": [
       "<div>\n",
       "<style scoped>\n",
       "    .dataframe tbody tr th:only-of-type {\n",
       "        vertical-align: middle;\n",
       "    }\n",
       "\n",
       "    .dataframe tbody tr th {\n",
       "        vertical-align: top;\n",
       "    }\n",
       "\n",
       "    .dataframe thead th {\n",
       "        text-align: right;\n",
       "    }\n",
       "</style>\n",
       "<table border=\"1\" class=\"dataframe\">\n",
       "  <thead>\n",
       "    <tr style=\"text-align: right;\">\n",
       "      <th></th>\n",
       "      <th>date_block_num</th>\n",
       "      <th>shop_id</th>\n",
       "      <th>item_id</th>\n",
       "      <th>item_category_id</th>\n",
       "      <th>item_price</th>\n",
       "      <th>mean_item_price</th>\n",
       "      <th>item_cnt</th>\n",
       "      <th>mean_item_cnt</th>\n",
       "      <th>transactions</th>\n",
       "      <th>item_cnt_month</th>\n",
       "      <th>item_cnt_next</th>\n",
       "      <th>year</th>\n",
       "      <th>month</th>\n",
       "      <th>item_price_unit</th>\n",
       "      <th>hist_min_item_price</th>\n",
       "      <th>hist_max_item_price</th>\n",
       "      <th>price_increase</th>\n",
       "      <th>price_decrease</th>\n",
       "      <th>item_cnt_min</th>\n",
       "      <th>item_cnt_max</th>\n",
       "      <th>item_cnt_mean</th>\n",
       "      <th>item_cnt_std</th>\n",
       "      <th>item_cnt_shifted1</th>\n",
       "      <th>item_cnt_shifted2</th>\n",
       "      <th>item_cnt_shifted3</th>\n",
       "      <th>item_trend</th>\n",
       "      <th>shop_mean</th>\n",
       "      <th>item_mean</th>\n",
       "      <th>shop_item_mean</th>\n",
       "      <th>year_mean</th>\n",
       "      <th>month_mean</th>\n",
       "    </tr>\n",
       "  </thead>\n",
       "  <tbody>\n",
       "    <tr>\n",
       "      <th>0</th>\n",
       "      <td>3</td>\n",
       "      <td>2</td>\n",
       "      <td>5572</td>\n",
       "      <td>2.0</td>\n",
       "      <td>2980.0</td>\n",
       "      <td>1490.0</td>\n",
       "      <td>2.0</td>\n",
       "      <td>1.0</td>\n",
       "      <td>2.0</td>\n",
       "      <td>2.0</td>\n",
       "      <td>2.0</td>\n",
       "      <td>2013</td>\n",
       "      <td>3</td>\n",
       "      <td>1490.0</td>\n",
       "      <td>0.0</td>\n",
       "      <td>18979.5</td>\n",
       "      <td>2980.0</td>\n",
       "      <td>15999.5</td>\n",
       "      <td>1.0</td>\n",
       "      <td>2.0</td>\n",
       "      <td>1.333333</td>\n",
       "      <td>0.577350</td>\n",
       "      <td>1.0</td>\n",
       "      <td>1.0</td>\n",
       "      <td>9.0</td>\n",
       "      <td>-2.25</td>\n",
       "      <td>0.096938</td>\n",
       "      <td>1.002857</td>\n",
       "      <td>0.84</td>\n",
       "      <td>0.170795</td>\n",
       "      <td>0.159275</td>\n",
       "    </tr>\n",
       "    <tr>\n",
       "      <th>1</th>\n",
       "      <td>3</td>\n",
       "      <td>2</td>\n",
       "      <td>5643</td>\n",
       "      <td>0.0</td>\n",
       "      <td>0.0</td>\n",
       "      <td>0.0</td>\n",
       "      <td>0.0</td>\n",
       "      <td>0.0</td>\n",
       "      <td>0.0</td>\n",
       "      <td>0.0</td>\n",
       "      <td>5.0</td>\n",
       "      <td>2013</td>\n",
       "      <td>3</td>\n",
       "      <td>0.0</td>\n",
       "      <td>0.0</td>\n",
       "      <td>35260.0</td>\n",
       "      <td>0.0</td>\n",
       "      <td>35260.0</td>\n",
       "      <td>0.0</td>\n",
       "      <td>0.0</td>\n",
       "      <td>0.000000</td>\n",
       "      <td>0.000000</td>\n",
       "      <td>0.0</td>\n",
       "      <td>0.0</td>\n",
       "      <td>0.0</td>\n",
       "      <td>0.00</td>\n",
       "      <td>0.096938</td>\n",
       "      <td>1.851429</td>\n",
       "      <td>1.64</td>\n",
       "      <td>0.170795</td>\n",
       "      <td>0.159275</td>\n",
       "    </tr>\n",
       "    <tr>\n",
       "      <th>2</th>\n",
       "      <td>3</td>\n",
       "      <td>2</td>\n",
       "      <td>5583</td>\n",
       "      <td>0.0</td>\n",
       "      <td>0.0</td>\n",
       "      <td>0.0</td>\n",
       "      <td>0.0</td>\n",
       "      <td>0.0</td>\n",
       "      <td>0.0</td>\n",
       "      <td>0.0</td>\n",
       "      <td>0.0</td>\n",
       "      <td>2013</td>\n",
       "      <td>3</td>\n",
       "      <td>0.0</td>\n",
       "      <td>0.0</td>\n",
       "      <td>5592.0</td>\n",
       "      <td>0.0</td>\n",
       "      <td>5592.0</td>\n",
       "      <td>0.0</td>\n",
       "      <td>0.0</td>\n",
       "      <td>0.000000</td>\n",
       "      <td>0.000000</td>\n",
       "      <td>0.0</td>\n",
       "      <td>0.0</td>\n",
       "      <td>0.0</td>\n",
       "      <td>0.00</td>\n",
       "      <td>0.096938</td>\n",
       "      <td>0.572381</td>\n",
       "      <td>0.08</td>\n",
       "      <td>0.170795</td>\n",
       "      <td>0.159275</td>\n",
       "    </tr>\n",
       "    <tr>\n",
       "      <th>3</th>\n",
       "      <td>3</td>\n",
       "      <td>2</td>\n",
       "      <td>7893</td>\n",
       "      <td>6.0</td>\n",
       "      <td>9350.0</td>\n",
       "      <td>1870.0</td>\n",
       "      <td>5.0</td>\n",
       "      <td>1.0</td>\n",
       "      <td>5.0</td>\n",
       "      <td>1.0</td>\n",
       "      <td>1.0</td>\n",
       "      <td>2013</td>\n",
       "      <td>3</td>\n",
       "      <td>1870.0</td>\n",
       "      <td>0.0</td>\n",
       "      <td>42630.0</td>\n",
       "      <td>9350.0</td>\n",
       "      <td>33280.0</td>\n",
       "      <td>1.0</td>\n",
       "      <td>5.0</td>\n",
       "      <td>2.666667</td>\n",
       "      <td>2.081666</td>\n",
       "      <td>1.0</td>\n",
       "      <td>2.0</td>\n",
       "      <td>3.0</td>\n",
       "      <td>-0.25</td>\n",
       "      <td>0.096938</td>\n",
       "      <td>3.241905</td>\n",
       "      <td>3.28</td>\n",
       "      <td>0.170795</td>\n",
       "      <td>0.159275</td>\n",
       "    </tr>\n",
       "    <tr>\n",
       "      <th>4</th>\n",
       "      <td>3</td>\n",
       "      <td>2</td>\n",
       "      <td>7894</td>\n",
       "      <td>0.0</td>\n",
       "      <td>0.0</td>\n",
       "      <td>0.0</td>\n",
       "      <td>0.0</td>\n",
       "      <td>0.0</td>\n",
       "      <td>0.0</td>\n",
       "      <td>0.0</td>\n",
       "      <td>0.0</td>\n",
       "      <td>2013</td>\n",
       "      <td>3</td>\n",
       "      <td>0.0</td>\n",
       "      <td>0.0</td>\n",
       "      <td>31290.0</td>\n",
       "      <td>0.0</td>\n",
       "      <td>31290.0</td>\n",
       "      <td>0.0</td>\n",
       "      <td>0.0</td>\n",
       "      <td>0.000000</td>\n",
       "      <td>0.000000</td>\n",
       "      <td>0.0</td>\n",
       "      <td>0.0</td>\n",
       "      <td>0.0</td>\n",
       "      <td>0.00</td>\n",
       "      <td>0.096938</td>\n",
       "      <td>3.915238</td>\n",
       "      <td>1.68</td>\n",
       "      <td>0.170795</td>\n",
       "      <td>0.159275</td>\n",
       "    </tr>\n",
       "  </tbody>\n",
       "</table>\n",
       "</div>"
      ],
      "text/plain": [
       "   date_block_num  shop_id  item_id  item_category_id  item_price  \\\n",
       "0               3        2     5572               2.0      2980.0   \n",
       "1               3        2     5643               0.0         0.0   \n",
       "2               3        2     5583               0.0         0.0   \n",
       "3               3        2     7893               6.0      9350.0   \n",
       "4               3        2     7894               0.0         0.0   \n",
       "\n",
       "   mean_item_price  item_cnt  mean_item_cnt  transactions  item_cnt_month  \\\n",
       "0           1490.0       2.0            1.0           2.0             2.0   \n",
       "1              0.0       0.0            0.0           0.0             0.0   \n",
       "2              0.0       0.0            0.0           0.0             0.0   \n",
       "3           1870.0       5.0            1.0           5.0             1.0   \n",
       "4              0.0       0.0            0.0           0.0             0.0   \n",
       "\n",
       "   item_cnt_next  year  month  item_price_unit  hist_min_item_price  \\\n",
       "0            2.0  2013      3           1490.0                  0.0   \n",
       "1            5.0  2013      3              0.0                  0.0   \n",
       "2            0.0  2013      3              0.0                  0.0   \n",
       "3            1.0  2013      3           1870.0                  0.0   \n",
       "4            0.0  2013      3              0.0                  0.0   \n",
       "\n",
       "   hist_max_item_price  price_increase  price_decrease  item_cnt_min  \\\n",
       "0              18979.5          2980.0         15999.5           1.0   \n",
       "1              35260.0             0.0         35260.0           0.0   \n",
       "2               5592.0             0.0          5592.0           0.0   \n",
       "3              42630.0          9350.0         33280.0           1.0   \n",
       "4              31290.0             0.0         31290.0           0.0   \n",
       "\n",
       "   item_cnt_max  item_cnt_mean  item_cnt_std  item_cnt_shifted1  \\\n",
       "0           2.0       1.333333      0.577350                1.0   \n",
       "1           0.0       0.000000      0.000000                0.0   \n",
       "2           0.0       0.000000      0.000000                0.0   \n",
       "3           5.0       2.666667      2.081666                1.0   \n",
       "4           0.0       0.000000      0.000000                0.0   \n",
       "\n",
       "   item_cnt_shifted2  item_cnt_shifted3  item_trend  shop_mean  item_mean  \\\n",
       "0                1.0                9.0       -2.25   0.096938   1.002857   \n",
       "1                0.0                0.0        0.00   0.096938   1.851429   \n",
       "2                0.0                0.0        0.00   0.096938   0.572381   \n",
       "3                2.0                3.0       -0.25   0.096938   3.241905   \n",
       "4                0.0                0.0        0.00   0.096938   3.915238   \n",
       "\n",
       "   shop_item_mean  year_mean  month_mean  \n",
       "0            0.84   0.170795    0.159275  \n",
       "1            1.64   0.170795    0.159275  \n",
       "2            0.08   0.170795    0.159275  \n",
       "3            3.28   0.170795    0.159275  \n",
       "4            1.68   0.170795    0.159275  "
      ]
     },
     "execution_count": 55,
     "metadata": {},
     "output_type": "execute_result"
    }
   ],
   "source": [
    "train_set.head()"
   ]
  },
  {
   "cell_type": "code",
   "execution_count": 56,
   "metadata": {},
   "outputs": [],
   "source": [
    "# Create train and validation sets and labels. \n",
    "X_train = train_set.drop(['item_cnt_month', 'date_block_num'], axis=1)\n",
    "Y_train = train_set['item_cnt_month'].astype(int)\n",
    "X_validation = validation_set.drop(['item_cnt_month', 'date_block_num'], axis=1)\n",
    "Y_validation = validation_set['item_cnt_month'].astype(int)"
   ]
  },
  {
   "cell_type": "code",
   "execution_count": 57,
   "metadata": {},
   "outputs": [],
   "source": [
    "# Integer features (used by catboost model).\n",
    "int_features = ['shop_id', 'item_id', 'year', 'month']\n",
    "X_train[int_features] = X_train[int_features].astype('int32')\n",
    "X_validation[int_features] = X_validation[int_features].astype('int32')"
   ]
  },
  {
   "cell_type": "markdown",
   "metadata": {},
   "source": [
    "**Build test set**"
   ]
  },
  {
   "cell_type": "code",
   "execution_count": 59,
   "metadata": {},
   "outputs": [
    {
     "data": {
      "text/html": [
       "<div>\n",
       "<style scoped>\n",
       "    .dataframe tbody tr th:only-of-type {\n",
       "        vertical-align: middle;\n",
       "    }\n",
       "\n",
       "    .dataframe tbody tr th {\n",
       "        vertical-align: top;\n",
       "    }\n",
       "\n",
       "    .dataframe thead th {\n",
       "        text-align: right;\n",
       "    }\n",
       "</style>\n",
       "<table border=\"1\" class=\"dataframe\">\n",
       "  <thead>\n",
       "    <tr style=\"text-align: right;\">\n",
       "      <th></th>\n",
       "      <th>date_block_num</th>\n",
       "      <th>shop_id</th>\n",
       "      <th>item_id</th>\n",
       "      <th>item_category_id</th>\n",
       "      <th>item_price</th>\n",
       "      <th>mean_item_price</th>\n",
       "      <th>item_cnt</th>\n",
       "      <th>mean_item_cnt</th>\n",
       "      <th>transactions</th>\n",
       "      <th>item_cnt_month</th>\n",
       "      <th>item_cnt_next</th>\n",
       "      <th>year</th>\n",
       "      <th>month</th>\n",
       "      <th>item_price_unit</th>\n",
       "      <th>hist_min_item_price</th>\n",
       "      <th>hist_max_item_price</th>\n",
       "      <th>price_increase</th>\n",
       "      <th>price_decrease</th>\n",
       "      <th>item_cnt_min</th>\n",
       "      <th>item_cnt_max</th>\n",
       "      <th>item_cnt_mean</th>\n",
       "      <th>item_cnt_std</th>\n",
       "      <th>item_cnt_shifted1</th>\n",
       "      <th>item_cnt_shifted2</th>\n",
       "      <th>item_cnt_shifted3</th>\n",
       "      <th>item_trend</th>\n",
       "      <th>shop_mean</th>\n",
       "      <th>item_mean</th>\n",
       "      <th>shop_item_mean</th>\n",
       "      <th>year_mean</th>\n",
       "      <th>month_mean</th>\n",
       "    </tr>\n",
       "  </thead>\n",
       "  <tbody>\n",
       "    <tr>\n",
       "      <th>0</th>\n",
       "      <td>3</td>\n",
       "      <td>2</td>\n",
       "      <td>5572</td>\n",
       "      <td>2.0</td>\n",
       "      <td>2980.0</td>\n",
       "      <td>1490.0</td>\n",
       "      <td>2.0</td>\n",
       "      <td>1.0</td>\n",
       "      <td>2.0</td>\n",
       "      <td>2.0</td>\n",
       "      <td>2.0</td>\n",
       "      <td>2013</td>\n",
       "      <td>3</td>\n",
       "      <td>1490.0</td>\n",
       "      <td>0.0</td>\n",
       "      <td>18979.5</td>\n",
       "      <td>2980.0</td>\n",
       "      <td>15999.5</td>\n",
       "      <td>1.0</td>\n",
       "      <td>2.0</td>\n",
       "      <td>1.333333</td>\n",
       "      <td>0.577350</td>\n",
       "      <td>1.0</td>\n",
       "      <td>1.0</td>\n",
       "      <td>9.0</td>\n",
       "      <td>-2.25</td>\n",
       "      <td>0.096938</td>\n",
       "      <td>1.002857</td>\n",
       "      <td>0.84</td>\n",
       "      <td>0.170795</td>\n",
       "      <td>0.159275</td>\n",
       "    </tr>\n",
       "    <tr>\n",
       "      <th>1</th>\n",
       "      <td>3</td>\n",
       "      <td>2</td>\n",
       "      <td>5643</td>\n",
       "      <td>0.0</td>\n",
       "      <td>0.0</td>\n",
       "      <td>0.0</td>\n",
       "      <td>0.0</td>\n",
       "      <td>0.0</td>\n",
       "      <td>0.0</td>\n",
       "      <td>0.0</td>\n",
       "      <td>5.0</td>\n",
       "      <td>2013</td>\n",
       "      <td>3</td>\n",
       "      <td>0.0</td>\n",
       "      <td>0.0</td>\n",
       "      <td>35260.0</td>\n",
       "      <td>0.0</td>\n",
       "      <td>35260.0</td>\n",
       "      <td>0.0</td>\n",
       "      <td>0.0</td>\n",
       "      <td>0.000000</td>\n",
       "      <td>0.000000</td>\n",
       "      <td>0.0</td>\n",
       "      <td>0.0</td>\n",
       "      <td>0.0</td>\n",
       "      <td>0.00</td>\n",
       "      <td>0.096938</td>\n",
       "      <td>1.851429</td>\n",
       "      <td>1.64</td>\n",
       "      <td>0.170795</td>\n",
       "      <td>0.159275</td>\n",
       "    </tr>\n",
       "    <tr>\n",
       "      <th>2</th>\n",
       "      <td>3</td>\n",
       "      <td>2</td>\n",
       "      <td>5583</td>\n",
       "      <td>0.0</td>\n",
       "      <td>0.0</td>\n",
       "      <td>0.0</td>\n",
       "      <td>0.0</td>\n",
       "      <td>0.0</td>\n",
       "      <td>0.0</td>\n",
       "      <td>0.0</td>\n",
       "      <td>0.0</td>\n",
       "      <td>2013</td>\n",
       "      <td>3</td>\n",
       "      <td>0.0</td>\n",
       "      <td>0.0</td>\n",
       "      <td>5592.0</td>\n",
       "      <td>0.0</td>\n",
       "      <td>5592.0</td>\n",
       "      <td>0.0</td>\n",
       "      <td>0.0</td>\n",
       "      <td>0.000000</td>\n",
       "      <td>0.000000</td>\n",
       "      <td>0.0</td>\n",
       "      <td>0.0</td>\n",
       "      <td>0.0</td>\n",
       "      <td>0.00</td>\n",
       "      <td>0.096938</td>\n",
       "      <td>0.572381</td>\n",
       "      <td>0.08</td>\n",
       "      <td>0.170795</td>\n",
       "      <td>0.159275</td>\n",
       "    </tr>\n",
       "    <tr>\n",
       "      <th>3</th>\n",
       "      <td>3</td>\n",
       "      <td>2</td>\n",
       "      <td>7893</td>\n",
       "      <td>6.0</td>\n",
       "      <td>9350.0</td>\n",
       "      <td>1870.0</td>\n",
       "      <td>5.0</td>\n",
       "      <td>1.0</td>\n",
       "      <td>5.0</td>\n",
       "      <td>1.0</td>\n",
       "      <td>1.0</td>\n",
       "      <td>2013</td>\n",
       "      <td>3</td>\n",
       "      <td>1870.0</td>\n",
       "      <td>0.0</td>\n",
       "      <td>42630.0</td>\n",
       "      <td>9350.0</td>\n",
       "      <td>33280.0</td>\n",
       "      <td>1.0</td>\n",
       "      <td>5.0</td>\n",
       "      <td>2.666667</td>\n",
       "      <td>2.081666</td>\n",
       "      <td>1.0</td>\n",
       "      <td>2.0</td>\n",
       "      <td>3.0</td>\n",
       "      <td>-0.25</td>\n",
       "      <td>0.096938</td>\n",
       "      <td>3.241905</td>\n",
       "      <td>3.28</td>\n",
       "      <td>0.170795</td>\n",
       "      <td>0.159275</td>\n",
       "    </tr>\n",
       "    <tr>\n",
       "      <th>4</th>\n",
       "      <td>3</td>\n",
       "      <td>2</td>\n",
       "      <td>7894</td>\n",
       "      <td>0.0</td>\n",
       "      <td>0.0</td>\n",
       "      <td>0.0</td>\n",
       "      <td>0.0</td>\n",
       "      <td>0.0</td>\n",
       "      <td>0.0</td>\n",
       "      <td>0.0</td>\n",
       "      <td>0.0</td>\n",
       "      <td>2013</td>\n",
       "      <td>3</td>\n",
       "      <td>0.0</td>\n",
       "      <td>0.0</td>\n",
       "      <td>31290.0</td>\n",
       "      <td>0.0</td>\n",
       "      <td>31290.0</td>\n",
       "      <td>0.0</td>\n",
       "      <td>0.0</td>\n",
       "      <td>0.000000</td>\n",
       "      <td>0.000000</td>\n",
       "      <td>0.0</td>\n",
       "      <td>0.0</td>\n",
       "      <td>0.0</td>\n",
       "      <td>0.00</td>\n",
       "      <td>0.096938</td>\n",
       "      <td>3.915238</td>\n",
       "      <td>1.68</td>\n",
       "      <td>0.170795</td>\n",
       "      <td>0.159275</td>\n",
       "    </tr>\n",
       "  </tbody>\n",
       "</table>\n",
       "</div>"
      ],
      "text/plain": [
       "   date_block_num  shop_id  item_id  item_category_id  item_price  \\\n",
       "0               3        2     5572               2.0      2980.0   \n",
       "1               3        2     5643               0.0         0.0   \n",
       "2               3        2     5583               0.0         0.0   \n",
       "3               3        2     7893               6.0      9350.0   \n",
       "4               3        2     7894               0.0         0.0   \n",
       "\n",
       "   mean_item_price  item_cnt  mean_item_cnt  transactions  item_cnt_month  \\\n",
       "0           1490.0       2.0            1.0           2.0             2.0   \n",
       "1              0.0       0.0            0.0           0.0             0.0   \n",
       "2              0.0       0.0            0.0           0.0             0.0   \n",
       "3           1870.0       5.0            1.0           5.0             1.0   \n",
       "4              0.0       0.0            0.0           0.0             0.0   \n",
       "\n",
       "   item_cnt_next  year  month  item_price_unit  hist_min_item_price  \\\n",
       "0            2.0  2013      3           1490.0                  0.0   \n",
       "1            5.0  2013      3              0.0                  0.0   \n",
       "2            0.0  2013      3              0.0                  0.0   \n",
       "3            1.0  2013      3           1870.0                  0.0   \n",
       "4            0.0  2013      3              0.0                  0.0   \n",
       "\n",
       "   hist_max_item_price  price_increase  price_decrease  item_cnt_min  \\\n",
       "0              18979.5          2980.0         15999.5           1.0   \n",
       "1              35260.0             0.0         35260.0           0.0   \n",
       "2               5592.0             0.0          5592.0           0.0   \n",
       "3              42630.0          9350.0         33280.0           1.0   \n",
       "4              31290.0             0.0         31290.0           0.0   \n",
       "\n",
       "   item_cnt_max  item_cnt_mean  item_cnt_std  item_cnt_shifted1  \\\n",
       "0           2.0       1.333333      0.577350                1.0   \n",
       "1           0.0       0.000000      0.000000                0.0   \n",
       "2           0.0       0.000000      0.000000                0.0   \n",
       "3           5.0       2.666667      2.081666                1.0   \n",
       "4           0.0       0.000000      0.000000                0.0   \n",
       "\n",
       "   item_cnt_shifted2  item_cnt_shifted3  item_trend  shop_mean  item_mean  \\\n",
       "0                1.0                9.0       -2.25   0.096938   1.002857   \n",
       "1                0.0                0.0        0.00   0.096938   1.851429   \n",
       "2                0.0                0.0        0.00   0.096938   0.572381   \n",
       "3                2.0                3.0       -0.25   0.096938   3.241905   \n",
       "4                0.0                0.0        0.00   0.096938   3.915238   \n",
       "\n",
       "   shop_item_mean  year_mean  month_mean  \n",
       "0            0.84   0.170795    0.159275  \n",
       "1            1.64   0.170795    0.159275  \n",
       "2            0.08   0.170795    0.159275  \n",
       "3            3.28   0.170795    0.159275  \n",
       "4            1.68   0.170795    0.159275  "
      ]
     },
     "execution_count": 59,
     "metadata": {},
     "output_type": "execute_result"
    }
   ],
   "source": [
    "train_set.head()"
   ]
  },
  {
   "cell_type": "code",
   "execution_count": null,
   "metadata": {},
   "outputs": [],
   "source": [
    "latest_records = pd.concat([train_set, validation_set]).drop_duplicates(subset=['shop_id', 'item_id'], keep='last')\n",
    "X_test = pd.merge(test, latest_records, on=['shop_id', 'item_id'], how='left', suffixes=['', '_'])\n",
    "X_test['year'] = 2015\n",
    "X_test['month'] = 9\n",
    "X_test.drop('item_cnt_month', axis=1, inplace=True)\n",
    "X_test[int_features] = X_test[int_features].astype('int32')\n",
    "X_test = X_test[X_train.columns]"
   ]
  },
  {
   "cell_type": "markdown",
   "metadata": {},
   "source": [
    "**Replace missing values with the median of each shop.**"
   ]
  },
  {
   "cell_type": "code",
   "execution_count": 28,
   "metadata": {},
   "outputs": [],
   "source": [
    "sets = [X_train, X_validation, X_test] \n",
    "for dataset in sets:\n",
    "    for shop_id in dataset['shop_id'].unique():\n",
    "        for column in dataset.columns:\n",
    "            shop_median = dataset[(dataset['shop_id'] == shop_id)][column].median()\n",
    "            dataset.loc[(dataset[column].isnull()) & (dataset['shop_id'] == shop_id), column] = shop_median\n",
    "            \n",
    "# Fill remaining missing values on test set with mean.\n",
    "X_test.fillna(X_test.mean(), inplace=True)"
   ]
  },
  {
   "cell_type": "markdown",
   "metadata": {},
   "source": [
    "**Dropping item_category because test have differente itens**"
   ]
  },
  {
   "cell_type": "code",
   "execution_count": 29,
   "metadata": {},
   "outputs": [],
   "source": [
    "X_train.drop(['item_category_id'], axis=1, inplace=True)\n",
    "X_validation.drop(['item_category_id'], axis=1, inplace=True)\n",
    "X_test.drop(['item_category_id'], axis=1, inplace=True)"
   ]
  },
  {
   "cell_type": "markdown",
   "metadata": {
    "_uuid": "ff43ed998eb859284670c8500ff854cde5303f9c"
   },
   "source": [
    "### **Catboost**"
   ]
  },
  {
   "cell_type": "code",
   "execution_count": 1,
   "metadata": {
    "_uuid": "73f88a81d81cdabf0da83e59015cd0edfc2ed6f8",
    "collapsed": true,
    "jupyter": {
     "outputs_hidden": true
    },
    "scrolled": true
   },
   "outputs": [
    {
     "ename": "NameError",
     "evalue": "name 'CatBoostRegressor' is not defined",
     "output_type": "error",
     "traceback": [
      "\u001b[0;31m---------------------------------------------------------------------------\u001b[0m",
      "\u001b[0;31mNameError\u001b[0m                                 Traceback (most recent call last)",
      "\u001b[0;32m<ipython-input-1-816f29ab802a>\u001b[0m in \u001b[0;36m<module>\u001b[0;34m\u001b[0m\n\u001b[1;32m      1\u001b[0m \u001b[0mcat_features\u001b[0m \u001b[0;34m=\u001b[0m \u001b[0;34m[\u001b[0m\u001b[0;36m0\u001b[0m\u001b[0;34m,\u001b[0m \u001b[0;36m1\u001b[0m\u001b[0;34m,\u001b[0m \u001b[0;36m7\u001b[0m\u001b[0;34m,\u001b[0m \u001b[0;36m8\u001b[0m\u001b[0;34m]\u001b[0m\u001b[0;34m\u001b[0m\u001b[0;34m\u001b[0m\u001b[0m\n\u001b[1;32m      2\u001b[0m \u001b[0;34m\u001b[0m\u001b[0m\n\u001b[0;32m----> 3\u001b[0;31m catboost_model = CatBoostRegressor(\n\u001b[0m\u001b[1;32m      4\u001b[0m     \u001b[0miterations\u001b[0m\u001b[0;34m=\u001b[0m\u001b[0;36m500\u001b[0m\u001b[0;34m,\u001b[0m\u001b[0;34m\u001b[0m\u001b[0;34m\u001b[0m\u001b[0m\n\u001b[1;32m      5\u001b[0m     \u001b[0mmax_ctr_complexity\u001b[0m\u001b[0;34m=\u001b[0m\u001b[0;36m4\u001b[0m\u001b[0;34m,\u001b[0m\u001b[0;34m\u001b[0m\u001b[0;34m\u001b[0m\u001b[0m\n",
      "\u001b[0;31mNameError\u001b[0m: name 'CatBoostRegressor' is not defined"
     ]
    }
   ],
   "source": [
    "cat_features = [0, 1, 7, 8]\n",
    "\n",
    "catboost_model = CatBoostRegressor(\n",
    "    iterations=500,\n",
    "    max_ctr_complexity=4,\n",
    "    random_seed=0,\n",
    "    od_type='Iter',\n",
    "    od_wait=25,\n",
    "    verbose=50,\n",
    "    depth=4\n",
    ")\n",
    "\n",
    "catboost_model.fit(\n",
    "    X_train, Y_train,\n",
    "    cat_features=cat_features,\n",
    "    eval_set=(X_validation, Y_validation)\n",
    ")"
   ]
  },
  {
   "cell_type": "code",
   "execution_count": null,
   "metadata": {
    "_kg_hide-input": true,
    "_uuid": "03a0b86ba70914bae6f48d00756b1fb987fd003e"
   },
   "outputs": [],
   "source": [
    "print('Model params:', catboost_model.get_params())"
   ]
  },
  {
   "cell_type": "code",
   "execution_count": null,
   "metadata": {
    "_kg_hide-input": false,
    "_uuid": "dbea78e85b720043785c6022ad2cc1f67ca08609"
   },
   "outputs": [],
   "source": [
    "catboost_train_pred = catboost_model.predict(X_train)\n",
    "catboost_val_pred = catboost_model.predict(X_validation)\n",
    "catboost_test_pred = catboost_model.predict(X_test)"
   ]
  },
  {
   "cell_type": "code",
   "execution_count": null,
   "metadata": {
    "_kg_hide-input": true,
    "_uuid": "725c3e57aadc1de507b25293117cc7b31c0ff488"
   },
   "outputs": [],
   "source": [
    "print('Train rmse:', np.sqrt(mean_squared_error(Y_train, catboost_train_pred)))\n",
    "print('Validation rmse:', np.sqrt(mean_squared_error(Y_validation, catboost_val_pred)))"
   ]
  },
  {
   "cell_type": "markdown",
   "metadata": {
    "_uuid": "429b9cf8bb4b04dc8a103728fcafbbf5c886fcc0"
   },
   "source": [
    "### **XGBoost**"
   ]
  },
  {
   "cell_type": "code",
   "execution_count": null,
   "metadata": {
    "_uuid": "e2420e802e8d9bb292369da9fd3c30236db8ea41"
   },
   "outputs": [],
   "source": [
    "xgb_features = ['item_cnt','item_cnt_mean', 'item_cnt_std', 'item_cnt_shifted1', \n",
    "                'item_cnt_shifted2', 'item_cnt_shifted3', 'shop_mean', \n",
    "                'shop_item_mean', 'item_trend', 'mean_item_cnt']\n",
    "xgb_train = X_train[xgb_features]\n",
    "xgb_val = X_validation[xgb_features]\n",
    "xgb_test = X_test[xgb_features]"
   ]
  },
  {
   "cell_type": "code",
   "execution_count": null,
   "metadata": {
    "_uuid": "664e284578f124539a7fd444f4942c6938cad9a3"
   },
   "outputs": [],
   "source": [
    "xgb_model = XGBRegressor(max_depth=8, \n",
    "                         n_estimators=500, \n",
    "                         min_child_weight=1000,  \n",
    "                         colsample_bytree=0.7, \n",
    "                         subsample=0.7, \n",
    "                         eta=0.3, \n",
    "                         seed=0)\n",
    "xgb_model.fit(xgb_train, \n",
    "              Y_train, \n",
    "              eval_metric=\"rmse\", \n",
    "              eval_set=[(xgb_train, Y_train), (xgb_val, Y_validation)], \n",
    "              verbose=20, \n",
    "              early_stopping_rounds=20)"
   ]
  },
  {
   "cell_type": "code",
   "execution_count": null,
   "metadata": {
    "_uuid": "187a10ac7bb5eb1053fd5649626d66835af65d20"
   },
   "outputs": [],
   "source": [
    "xgb_train_pred = xgb_model.predict(xgb_train)\n",
    "xgb_val_pred = xgb_model.predict(xgb_val)\n",
    "xgb_test_pred = xgb_model.predict(xgb_test)"
   ]
  },
  {
   "cell_type": "code",
   "execution_count": null,
   "metadata": {
    "_kg_hide-input": true,
    "_uuid": "fe7b0f331a7099a0db15a90daaa58f2e89dd7ebf"
   },
   "outputs": [],
   "source": [
    "print('Train rmse:', np.sqrt(mean_squared_error(Y_train, xgb_train_pred)))\n",
    "print('Validation rmse:', np.sqrt(mean_squared_error(Y_validation, xgb_val_pred)))"
   ]
  },
  {
   "cell_type": "markdown",
   "metadata": {
    "_uuid": "47a1a63f7fc895f20994975054a6c3d5c7c19759"
   },
   "source": [
    "### **Random forest**"
   ]
  },
  {
   "cell_type": "code",
   "execution_count": null,
   "metadata": {
    "_uuid": "d2adddbafbb172a9c4e3e504e862f6df59a1fd93"
   },
   "outputs": [],
   "source": [
    "rf_features = ['shop_id', 'item_id', 'item_cnt', 'transactions', 'year',\n",
    "               'item_cnt_mean', 'item_cnt_std', 'item_cnt_shifted1', \n",
    "               'shop_mean', 'item_mean', 'item_trend', 'mean_item_cnt']\n",
    "rf_train = X_train[rf_features]\n",
    "rf_val = X_validation[rf_features]\n",
    "rf_test = X_test[rf_features]"
   ]
  },
  {
   "cell_type": "code",
   "execution_count": null,
   "metadata": {
    "_uuid": "fb01123397fbd2cfd4ac3e0eefac456063b38810"
   },
   "outputs": [],
   "source": [
    "rf_model = RandomForestRegressor(n_estimators=50, max_depth=7, random_state=0, n_jobs=-1)\n",
    "rf_model.fit(rf_train, Y_train)"
   ]
  },
  {
   "cell_type": "code",
   "execution_count": null,
   "metadata": {
    "_kg_hide-input": false,
    "_uuid": "1f58257f9673ec2221ca500bf7677e81cc0337ec"
   },
   "outputs": [],
   "source": [
    "rf_train_pred = rf_model.predict(rf_train)\n",
    "rf_val_pred = rf_model.predict(rf_val)\n",
    "rf_test_pred = rf_model.predict(rf_test)"
   ]
  },
  {
   "cell_type": "code",
   "execution_count": null,
   "metadata": {
    "_kg_hide-input": true,
    "_uuid": "f3962fc67733732b2ce1ddfc78ee528c8c76f63f"
   },
   "outputs": [],
   "source": [
    "print('Train rmse:', np.sqrt(mean_squared_error(Y_train, rf_train_pred)))\n",
    "print('Validation rmse:', np.sqrt(mean_squared_error(Y_validation, rf_val_pred)))"
   ]
  },
  {
   "cell_type": "markdown",
   "metadata": {
    "_uuid": "fd12c4d9fc1957ba004cf25b49a17544f6d16a55"
   },
   "source": [
    "### **Linear Regression**"
   ]
  },
  {
   "cell_type": "code",
   "execution_count": null,
   "metadata": {
    "_uuid": "5ab33ceacdbec93d83e8d943703eaae913fc903b"
   },
   "outputs": [],
   "source": [
    "lr_features = ['item_cnt', 'item_cnt_shifted1', 'item_trend', 'mean_item_cnt', 'shop_mean']\n",
    "lr_train = X_train[lr_features]\n",
    "lr_val = X_validation[lr_features]\n",
    "lr_test = X_test[lr_features]"
   ]
  },
  {
   "cell_type": "markdown",
   "metadata": {
    "_uuid": "a3b9c9a48b0f43d91e157ec8b74d2df76d8ea147"
   },
   "source": [
    "**Normalizing features**"
   ]
  },
  {
   "cell_type": "code",
   "execution_count": null,
   "metadata": {
    "_uuid": "740e5d29b5b95efc5dccfd23583f1bf619511baf"
   },
   "outputs": [],
   "source": [
    "lr_scaler = MinMaxScaler()\n",
    "lr_scaler.fit(lr_train)\n",
    "lr_train = lr_scaler.transform(lr_train)\n",
    "lr_val = lr_scaler.transform(lr_val)\n",
    "lr_test = lr_scaler.transform(lr_test)"
   ]
  },
  {
   "cell_type": "code",
   "execution_count": null,
   "metadata": {
    "_uuid": "76fdad787667e8cb2390037ee4de0b797edd6b71"
   },
   "outputs": [],
   "source": [
    "lr_model = LinearRegression(n_jobs=-1)\n",
    "lr_model.fit(lr_train, Y_train)"
   ]
  },
  {
   "cell_type": "code",
   "execution_count": null,
   "metadata": {
    "_uuid": "e7d590deb7cce90bda5b917ceb5c51837010c7e6"
   },
   "outputs": [],
   "source": [
    "lr_train_pred = lr_model.predict(lr_train)\n",
    "lr_val_pred = lr_model.predict(lr_val)\n",
    "lr_test_pred = lr_model.predict(lr_test)"
   ]
  },
  {
   "cell_type": "code",
   "execution_count": null,
   "metadata": {
    "_kg_hide-input": true,
    "_uuid": "20a41af682fab380653753f1599b409eba76b1d7"
   },
   "outputs": [],
   "source": [
    "print('Train rmse:', np.sqrt(mean_squared_error(Y_train, lr_train_pred)))\n",
    "print('Validation rmse:', np.sqrt(mean_squared_error(Y_validation, lr_val_pred)))"
   ]
  },
  {
   "cell_type": "markdown",
   "metadata": {
    "_uuid": "199d781d9fe50bdee22d9a0f7e015c478ad304a1"
   },
   "source": [
    "### **KNN Regressor**"
   ]
  },
  {
   "cell_type": "code",
   "execution_count": null,
   "metadata": {
    "_uuid": "eacbbf35dcf870dd40971313f6679fca47be779e"
   },
   "outputs": [],
   "source": [
    "# Use only part of features on KNN.\n",
    "knn_features = ['item_cnt', 'item_cnt_mean', 'item_cnt_std', 'item_cnt_shifted1',\n",
    "                'item_cnt_shifted2', 'shop_mean', 'shop_item_mean', \n",
    "                'item_trend', 'mean_item_cnt']\n",
    "\n",
    "# Subsample train set (using the whole data was taking too long).\n",
    "X_train_sampled = X_train[:100000]\n",
    "Y_train_sampled = Y_train[:100000]\n",
    "\n",
    "knn_train = X_train_sampled[knn_features]\n",
    "knn_val = X_validation[knn_features]\n",
    "knn_test = X_test[knn_features]"
   ]
  },
  {
   "cell_type": "markdown",
   "metadata": {
    "_uuid": "1433659573f24e38c8cf9458a9a9776d65af9889"
   },
   "source": [
    "**Normalizing features**"
   ]
  },
  {
   "cell_type": "code",
   "execution_count": null,
   "metadata": {
    "_uuid": "ceaccd5a99ffea219b457161b9969a92e2246dcf"
   },
   "outputs": [],
   "source": [
    "knn_scaler = MinMaxScaler()\n",
    "knn_scaler.fit(knn_train)\n",
    "knn_train = knn_scaler.transform(knn_train)\n",
    "knn_val = knn_scaler.transform(knn_val)\n",
    "knn_test = knn_scaler.transform(knn_test)"
   ]
  },
  {
   "cell_type": "code",
   "execution_count": null,
   "metadata": {
    "_uuid": "1fab3dd11e5f5524105d3fc10833c54bff4337f8"
   },
   "outputs": [],
   "source": [
    "knn_model = KNeighborsRegressor(n_neighbors=9, leaf_size=13, n_jobs=-1)\n",
    "knn_model.fit(knn_train, Y_train_sampled)"
   ]
  },
  {
   "cell_type": "code",
   "execution_count": null,
   "metadata": {
    "_uuid": "1124addcec6c40076ff7056f3f29b7749761d52e"
   },
   "outputs": [],
   "source": [
    "knn_train_pred = knn_model.predict(knn_train)\n",
    "knn_val_pred = knn_model.predict(knn_val)\n",
    "knn_test_pred = knn_model.predict(knn_test)"
   ]
  },
  {
   "cell_type": "code",
   "execution_count": null,
   "metadata": {
    "_kg_hide-input": true,
    "_uuid": "a658907c91ee956e1da7feb3c92d81664720b5bd"
   },
   "outputs": [],
   "source": [
    "print('Train rmse:', np.sqrt(mean_squared_error(Y_train_sampled, knn_train_pred)))\n",
    "print('Validation rmse:', np.sqrt(mean_squared_error(Y_validation, knn_val_pred)))"
   ]
  },
  {
   "cell_type": "markdown",
   "metadata": {
    "_uuid": "b62f362b68c250eaa9aa6ba406c282ff577f9648"
   },
   "source": [
    "### **Stacking**"
   ]
  },
  {
   "cell_type": "code",
   "execution_count": null,
   "metadata": {
    "_uuid": "47525c6c9da7c560b06b037e02b932ef9c224333"
   },
   "outputs": [],
   "source": [
    "# Dataset that will be the train set of the ensemble model.\n",
    "first_level = pd.DataFrame(catboost_val_pred, columns=['catboost'])\n",
    "first_level['xgbm'] = xgb_val_pred\n",
    "first_level['random_forest'] = rf_val_pred\n",
    "first_level['linear_regression'] = lr_val_pred\n",
    "first_level['knn'] = knn_val_pred\n",
    "first_level['label'] = Y_validation.values\n",
    "first_level.head(20)"
   ]
  },
  {
   "cell_type": "code",
   "execution_count": null,
   "metadata": {
    "_uuid": "b1457c21773856c8a7c73a452beb659f35464512"
   },
   "outputs": [],
   "source": [
    "# Dataset that will be the test set of the ensemble model.\n",
    "first_level_test = pd.DataFrame(catboost_test_pred, columns=['catboost'])\n",
    "first_level_test['xgbm'] = xgb_test_pred\n",
    "first_level_test['random_forest'] = rf_test_pred\n",
    "first_level_test['linear_regression'] = lr_test_pred\n",
    "first_level_test['knn'] = knn_test_pred\n",
    "first_level_test.head()"
   ]
  },
  {
   "cell_type": "markdown",
   "metadata": {},
   "source": [
    "**Simple LinearRegression as Meta-model for our emsemble stacking**"
   ]
  },
  {
   "cell_type": "code",
   "execution_count": null,
   "metadata": {
    "_uuid": "e643b5f4b5c5ea9a1ee4ede6f26eabc710248feb"
   },
   "outputs": [],
   "source": [
    "meta_model = LinearRegression(n_jobs=-1)"
   ]
  },
  {
   "cell_type": "markdown",
   "metadata": {
    "_uuid": "aa8aa67fc031eeadbbd6df1854d81badda701116"
   },
   "source": [
    "**Trained on validation set using the 1st level models predictions as features.**"
   ]
  },
  {
   "cell_type": "code",
   "execution_count": null,
   "metadata": {
    "_uuid": "fa34fadee5290ef57b9998a345ca99a390030435"
   },
   "outputs": [],
   "source": [
    "# Drop label from dataset.\n",
    "first_level.drop('label', axis=1, inplace=True)\n",
    "meta_model.fit(first_level, Y_validation)"
   ]
  },
  {
   "cell_type": "markdown",
   "metadata": {
    "_uuid": "ab80de72ecaaa6db2db0ddd161a0715177e50c65"
   },
   "source": [
    "**Make predictions on test set using the 1st level models predictions as features.**"
   ]
  },
  {
   "cell_type": "code",
   "execution_count": null,
   "metadata": {
    "_kg_hide-input": true,
    "_uuid": "4e92b8cf8df4db809425ceb69c7cd01d457950c1"
   },
   "outputs": [],
   "source": [
    "ensemble_pred = meta_model.predict(first_level)\n",
    "final_predictions = meta_model.predict(first_level_test)"
   ]
  },
  {
   "cell_type": "markdown",
   "metadata": {
    "_uuid": "fb5946b79a15317bb296f76a8b2df1037dd117f8"
   },
   "source": [
    "**Ensemble model metrics on validation set.**"
   ]
  },
  {
   "cell_type": "code",
   "execution_count": null,
   "metadata": {
    "_kg_hide-input": true,
    "_uuid": "e57727d067f5c5dc7f83589b8e4e0056f29d7815"
   },
   "outputs": [],
   "source": [
    "print('Train rmse:', np.sqrt(mean_squared_error(ensemble_pred, Y_validation)))"
   ]
  },
  {
   "cell_type": "code",
   "execution_count": null,
   "metadata": {
    "_kg_hide-input": true,
    "_uuid": "9d50eb5dc41518816096edf8789c14c571c24de1"
   },
   "outputs": [],
   "source": [
    "model_performance_sc_plot(ensemble_pred, Y_validation, 'Validation')"
   ]
  }
 ],
 "metadata": {
  "kernelspec": {
   "display_name": "Python 3.7.6 64-bit ('base': conda)",
   "language": "python",
   "name": "python37664bitbaseconda2784c97c2cd54b76ac6c6bdfcbef07a4"
  },
  "language_info": {
   "codemirror_mode": {
    "name": "ipython",
    "version": 3
   },
   "file_extension": ".py",
   "mimetype": "text/x-python",
   "name": "python",
   "nbconvert_exporter": "python",
   "pygments_lexer": "ipython3",
   "version": "3.7.6"
  }
 },
 "nbformat": 4,
 "nbformat_minor": 4
}
